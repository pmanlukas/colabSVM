{
  "nbformat": 4,
  "nbformat_minor": 0,
  "metadata": {
    "colab": {
      "name": "linear_classifier",
      "version": "0.3.2",
      "provenance": [],
      "collapsed_sections": []
    },
    "kernelspec": {
      "name": "python3",
      "display_name": "Python 3"
    }
  },
  "cells": [
    {
      "cell_type": "markdown",
      "metadata": {
        "id": "view-in-github",
        "colab_type": "text"
      },
      "source": [
        "[View in Colaboratory](https://colab.research.google.com/github/pmanlukas/colabSVM/blob/master/linear_classifier.ipynb)"
      ]
    },
    {
      "metadata": {
        "id": "hnlbbz1s6cX3",
        "colab_type": "text"
      },
      "cell_type": "markdown",
      "source": [
        "# Linear Classifier\n",
        "In this notebook a linear classifier based on a SVM is developed that is used as benchmark for the neural network based classifier"
      ]
    },
    {
      "metadata": {
        "id": "dNHG8lm26o05",
        "colab_type": "code",
        "colab": {
          "base_uri": "https://localhost:8080/",
          "height": 2435
        },
        "outputId": "bbb173ab-8bc8-458d-b19d-d90092c3f259"
      },
      "cell_type": "code",
      "source": [
        "# Install a Drive FUSE wrapper.\n",
        "# https://github.com/astrada/google-drive-ocamlfuse\n",
        "!apt-get install -y -qq software-properties-common python-software-properties module-init-tools\n",
        "!add-apt-repository -y ppa:alessandro-strada/ppa 2>&1 > /dev/null\n",
        "!apt-get update -qq 2>&1 > /dev/null\n",
        "!apt-get -y install -qq google-drive-ocamlfuse fuse"
      ],
      "execution_count": 1,
      "outputs": [
        {
          "output_type": "stream",
          "text": [
            "Preconfiguring packages ...\n",
            "Selecting previously unselected package cron.\n",
            "(Reading database ... 18298 files and directories currently installed.)\n",
            "Preparing to unpack .../00-cron_3.0pl1-128ubuntu5_amd64.deb ...\n",
            "Unpacking cron (3.0pl1-128ubuntu5) ...\n",
            "Selecting previously unselected package libapparmor1:amd64.\n",
            "Preparing to unpack .../01-libapparmor1_2.11.0-2ubuntu17.1_amd64.deb ...\n",
            "Unpacking libapparmor1:amd64 (2.11.0-2ubuntu17.1) ...\n",
            "Selecting previously unselected package libdbus-1-3:amd64.\n",
            "Preparing to unpack .../02-libdbus-1-3_1.10.22-1ubuntu1_amd64.deb ...\n",
            "Unpacking libdbus-1-3:amd64 (1.10.22-1ubuntu1) ...\n",
            "Selecting previously unselected package dbus.\n",
            "Preparing to unpack .../03-dbus_1.10.22-1ubuntu1_amd64.deb ...\n",
            "Unpacking dbus (1.10.22-1ubuntu1) ...\n",
            "Selecting previously unselected package dirmngr.\n",
            "Preparing to unpack .../04-dirmngr_2.1.15-1ubuntu8_amd64.deb ...\n",
            "Unpacking dirmngr (2.1.15-1ubuntu8) ...\n",
            "Selecting previously unselected package distro-info-data.\n",
            "Preparing to unpack .../05-distro-info-data_0.36ubuntu0.2_all.deb ...\n",
            "Unpacking distro-info-data (0.36ubuntu0.2) ...\n",
            "Selecting previously unselected package libkmod2:amd64.\n",
            "Preparing to unpack .../06-libkmod2_24-1ubuntu2_amd64.deb ...\n",
            "Unpacking libkmod2:amd64 (24-1ubuntu2) ...\n",
            "Selecting previously unselected package kmod.\n",
            "Preparing to unpack .../07-kmod_24-1ubuntu2_amd64.deb ...\n",
            "Unpacking kmod (24-1ubuntu2) ...\n",
            "Selecting previously unselected package lsb-release.\n",
            "Preparing to unpack .../08-lsb-release_9.20160110ubuntu5_all.deb ...\n",
            "Unpacking lsb-release (9.20160110ubuntu5) ...\n",
            "Selecting previously unselected package libgirepository-1.0-1:amd64.\n",
            "Preparing to unpack .../09-libgirepository-1.0-1_1.54.1-1_amd64.deb ...\n",
            "Unpacking libgirepository-1.0-1:amd64 (1.54.1-1) ...\n",
            "Selecting previously unselected package gir1.2-glib-2.0:amd64.\n",
            "Preparing to unpack .../10-gir1.2-glib-2.0_1.54.1-1_amd64.deb ...\n",
            "Unpacking gir1.2-glib-2.0:amd64 (1.54.1-1) ...\n",
            "Selecting previously unselected package iso-codes.\n",
            "Preparing to unpack .../11-iso-codes_3.75-1_all.deb ...\n",
            "Unpacking iso-codes (3.75-1) ...\n",
            "Selecting previously unselected package libdbus-glib-1-2:amd64.\n",
            "Preparing to unpack .../12-libdbus-glib-1-2_0.108-2_amd64.deb ...\n",
            "Unpacking libdbus-glib-1-2:amd64 (0.108-2) ...\n",
            "Selecting previously unselected package python-apt-common.\n",
            "Preparing to unpack .../13-python-apt-common_1.4.0~beta3build2_all.deb ...\n",
            "Unpacking python-apt-common (1.4.0~beta3build2) ...\n",
            "Selecting previously unselected package python3-apt.\n",
            "Preparing to unpack .../14-python3-apt_1.4.0~beta3build2_amd64.deb ...\n",
            "Unpacking python3-apt (1.4.0~beta3build2) ...\n",
            "Selecting previously unselected package python3-dbus.\n",
            "Preparing to unpack .../15-python3-dbus_1.2.4-1build3_amd64.deb ...\n",
            "Unpacking python3-dbus (1.2.4-1build3) ...\n",
            "Selecting previously unselected package python3-gi.\n",
            "Preparing to unpack .../16-python3-gi_3.24.1-2build1_amd64.deb ...\n",
            "Unpacking python3-gi (3.24.1-2build1) ...\n",
            "Selecting previously unselected package module-init-tools.\n",
            "Preparing to unpack .../17-module-init-tools_24-1ubuntu2_all.deb ...\n",
            "Unpacking module-init-tools (24-1ubuntu2) ...\n",
            "Selecting previously unselected package python-apt.\n",
            "Preparing to unpack .../18-python-apt_1.4.0~beta3build2_amd64.deb ...\n",
            "Unpacking python-apt (1.4.0~beta3build2) ...\n",
            "Selecting previously unselected package python-pycurl.\n",
            "Preparing to unpack .../19-python-pycurl_7.43.0-2build2_amd64.deb ...\n",
            "Unpacking python-pycurl (7.43.0-2build2) ...\n",
            "Selecting previously unselected package python-software-properties.\n",
            "Preparing to unpack .../20-python-software-properties_0.96.24.17_all.deb ...\n",
            "Unpacking python-software-properties (0.96.24.17) ...\n",
            "Selecting previously unselected package python3-software-properties.\n",
            "Preparing to unpack .../21-python3-software-properties_0.96.24.17_all.deb ...\n",
            "Unpacking python3-software-properties (0.96.24.17) ...\n",
            "Selecting previously unselected package software-properties-common.\n",
            "Preparing to unpack .../22-software-properties-common_0.96.24.17_all.deb ...\n",
            "Unpacking software-properties-common (0.96.24.17) ...\n",
            "Selecting previously unselected package unattended-upgrades.\n",
            "Preparing to unpack .../23-unattended-upgrades_0.98ubuntu1.1_all.deb ...\n",
            "Unpacking unattended-upgrades (0.98ubuntu1.1) ...\n",
            "Setting up python-apt-common (1.4.0~beta3build2) ...\n",
            "Setting up python3-apt (1.4.0~beta3build2) ...\n",
            "Setting up iso-codes (3.75-1) ...\n",
            "Setting up distro-info-data (0.36ubuntu0.2) ...\n",
            "Setting up python-pycurl (7.43.0-2build2) ...\n",
            "Setting up lsb-release (9.20160110ubuntu5) ...\n",
            "Setting up libgirepository-1.0-1:amd64 (1.54.1-1) ...\n",
            "Setting up libkmod2:amd64 (24-1ubuntu2) ...\n",
            "Setting up gir1.2-glib-2.0:amd64 (1.54.1-1) ...\n",
            "Processing triggers for libc-bin (2.26-0ubuntu2.1) ...\n",
            "Setting up libapparmor1:amd64 (2.11.0-2ubuntu17.1) ...\n",
            "Setting up unattended-upgrades (0.98ubuntu1.1) ...\n",
            "\n",
            "Creating config file /etc/apt/apt.conf.d/20auto-upgrades with new version\n"
          ],
          "name": "stdout"
        },
        {
          "output_type": "stream",
          "text": [
            "\r\n",
            "Creating config file /etc/apt/apt.conf.d/50unattended-upgrades with new version\n",
            "invoke-rc.d: could not determine current runlevel\n",
            "invoke-rc.d: policy-rc.d denied execution of start.\n",
            "Setting up dirmngr (2.1.15-1ubuntu8) ...\n",
            "Setting up cron (3.0pl1-128ubuntu5) ...\n",
            "Adding group `crontab' (GID 102) ...\n",
            "Done.\n",
            "update-rc.d: warning: start and stop actions are no longer supported; falling back to defaults\n",
            "update-rc.d: warning: stop runlevel arguments (1) do not match cron Default-Stop values (none)\n",
            "invoke-rc.d: could not determine current runlevel\n",
            "invoke-rc.d: policy-rc.d denied execution of start.\n",
            "Setting up libdbus-1-3:amd64 (1.10.22-1ubuntu1) ...\n",
            "Setting up kmod (24-1ubuntu2) ...\n",
            "Setting up libdbus-glib-1-2:amd64 (0.108-2) ...\n",
            "Setting up python3-gi (3.24.1-2build1) ...\n",
            "Setting up module-init-tools (24-1ubuntu2) ...\n",
            "Setting up python3-software-properties (0.96.24.17) ...\n",
            "Setting up dbus (1.10.22-1ubuntu1) ...\n",
            "Setting up python-apt (1.4.0~beta3build2) ...\n",
            "Setting up python3-dbus (1.2.4-1build3) ...\n",
            "Setting up python-software-properties (0.96.24.17) ...\n",
            "Setting up software-properties-common (0.96.24.17) ...\n",
            "Processing triggers for libc-bin (2.26-0ubuntu2.1) ...\n",
            "Processing triggers for dbus (1.10.22-1ubuntu1) ...\n",
            "gpg: keybox '/tmp/tmplxkjm2jg/pubring.gpg' created\n",
            "gpg: /tmp/tmplxkjm2jg/trustdb.gpg: trustdb created\n",
            "gpg: key AD5F235DF639B041: public key \"Launchpad PPA for Alessandro Strada\" imported\n",
            "gpg: Total number processed: 1\n",
            "gpg:               imported: 1\n",
            "Warning: apt-key output should not be parsed (stdout is not a terminal)\n",
            "Selecting previously unselected package libfuse2:amd64.\n",
            "(Reading database ... 19706 files and directories currently installed.)\n",
            "Preparing to unpack .../libfuse2_2.9.7-1ubuntu1_amd64.deb ...\n",
            "Unpacking libfuse2:amd64 (2.9.7-1ubuntu1) ...\n",
            "Selecting previously unselected package fuse.\n",
            "Preparing to unpack .../fuse_2.9.7-1ubuntu1_amd64.deb ...\n",
            "Unpacking fuse (2.9.7-1ubuntu1) ...\n",
            "Selecting previously unselected package google-drive-ocamlfuse.\n",
            "Preparing to unpack .../google-drive-ocamlfuse_0.6.21-0ubuntu2_amd64.deb ...\n",
            "Unpacking google-drive-ocamlfuse (0.6.21-0ubuntu2) ...\n",
            "Setting up libfuse2:amd64 (2.9.7-1ubuntu1) ...\n",
            "Processing triggers for libc-bin (2.26-0ubuntu2.1) ...\n",
            "Setting up fuse (2.9.7-1ubuntu1) ...\n",
            "Setting up google-drive-ocamlfuse (0.6.21-0ubuntu2) ...\n"
          ],
          "name": "stdout"
        }
      ]
    },
    {
      "metadata": {
        "id": "If-AvzxO62CG",
        "colab_type": "code",
        "colab": {}
      },
      "cell_type": "code",
      "source": [
        "# Generate auth tokens for Colab\n",
        "from google.colab import auth\n",
        "auth.authenticate_user()"
      ],
      "execution_count": 0,
      "outputs": []
    },
    {
      "metadata": {
        "id": "xcYCv0PM64LE",
        "colab_type": "code",
        "colab": {
          "base_uri": "https://localhost:8080/",
          "height": 110
        },
        "outputId": "4c0b5134-7146-4c0b-840b-3b6cc6f248bc"
      },
      "cell_type": "code",
      "source": [
        "# Generate creds for the Drive FUSE library.\n",
        "from oauth2client.client import GoogleCredentials\n",
        "creds = GoogleCredentials.get_application_default()\n",
        "import getpass\n",
        "!google-drive-ocamlfuse -headless -id={creds.client_id} -secret={creds.client_secret} < /dev/null 2>&1 | grep URL\n",
        "vcode = getpass.getpass()\n",
        "!echo {vcode} | google-drive-ocamlfuse -headless -id={creds.client_id} -secret={creds.client_secret}"
      ],
      "execution_count": 3,
      "outputs": [
        {
          "output_type": "stream",
          "text": [
            "Please, open the following URL in a web browser: https://accounts.google.com/o/oauth2/auth?client_id=32555940559.apps.googleusercontent.com&redirect_uri=urn%3Aietf%3Awg%3Aoauth%3A2.0%3Aoob&scope=https%3A%2F%2Fwww.googleapis.com%2Fauth%2Fdrive&response_type=code&access_type=offline&approval_prompt=force\r\n",
            "··········\n",
            "Please, open the following URL in a web browser: https://accounts.google.com/o/oauth2/auth?client_id=32555940559.apps.googleusercontent.com&redirect_uri=urn%3Aietf%3Awg%3Aoauth%3A2.0%3Aoob&scope=https%3A%2F%2Fwww.googleapis.com%2Fauth%2Fdrive&response_type=code&access_type=offline&approval_prompt=force\n",
            "Please enter the verification code: Access token retrieved correctly.\n"
          ],
          "name": "stdout"
        }
      ]
    },
    {
      "metadata": {
        "id": "ksvbq9RU66Ss",
        "colab_type": "code",
        "colab": {}
      },
      "cell_type": "code",
      "source": [
        "# Create a directory and mount Google Drive using that directory.\n",
        "!mkdir -p drive\n",
        "!google-drive-ocamlfuse drive"
      ],
      "execution_count": 0,
      "outputs": []
    },
    {
      "metadata": {
        "id": "kKE5HsFD7Aym",
        "colab_type": "code",
        "colab": {
          "base_uri": "https://localhost:8080/",
          "height": 126
        },
        "outputId": "d5249a60-5108-49fd-eb92-20df764f7e09"
      },
      "cell_type": "code",
      "source": [
        "!ls /content/drive/openapi-data/"
      ],
      "execution_count": 5,
      "outputs": [
        {
          "output_type": "stream",
          "text": [
            "CNN_cat.h5\t       LSTMCNN_cat_weights.h5\tPoC Classifier Path.odt\r\n",
            "CNN_cat_weights.h5     mnist.py\t\t\tstructure_labels0518.csv\r\n",
            "CNN_struct.h5\t       new_path_labels0518.csv\tstructure_labels.csv\r\n",
            "CNN_struct_weights.h5  path_labels0518.csv\tweights.best.hdf5\r\n",
            "glove.6B.zip\t       path_labels.csv\t\twordvector\r\n",
            "LSTMCNN_cat.h5\t       pickle\r\n"
          ],
          "name": "stdout"
        }
      ]
    },
    {
      "metadata": {
        "id": "UmiNbEdk7BQM",
        "colab_type": "code",
        "colab": {}
      },
      "cell_type": "code",
      "source": [
        "import os\n",
        "os.chdir(\"drive/openapi-data\")"
      ],
      "execution_count": 0,
      "outputs": []
    },
    {
      "metadata": {
        "id": "14iKmb5Q7FAO",
        "colab_type": "code",
        "colab": {
          "base_uri": "https://localhost:8080/",
          "height": 126
        },
        "outputId": "af60e50e-a58c-4218-c8d1-8fb2123d2f35"
      },
      "cell_type": "code",
      "source": [
        "!ls"
      ],
      "execution_count": 7,
      "outputs": [
        {
          "output_type": "stream",
          "text": [
            "CNN_cat.h5\t       LSTMCNN_cat_weights.h5\tPoC Classifier Path.odt\r\n",
            "CNN_cat_weights.h5     mnist.py\t\t\tstructure_labels0518.csv\r\n",
            "CNN_struct.h5\t       new_path_labels0518.csv\tstructure_labels.csv\r\n",
            "CNN_struct_weights.h5  path_labels0518.csv\tweights.best.hdf5\r\n",
            "glove.6B.zip\t       path_labels.csv\t\twordvector\r\n",
            "LSTMCNN_cat.h5\t       pickle\r\n"
          ],
          "name": "stdout"
        }
      ]
    },
    {
      "metadata": {
        "id": "MnW-KlaE7G6L",
        "colab_type": "code",
        "colab": {}
      },
      "cell_type": "code",
      "source": [
        "import pickle"
      ],
      "execution_count": 0,
      "outputs": []
    },
    {
      "metadata": {
        "id": "uDVjZCwZ7I2g",
        "colab_type": "code",
        "colab": {}
      },
      "cell_type": "code",
      "source": [
        "training_data = dict()\n",
        "\n",
        "with open('pickle/specjson210518.pkl', 'rb') as handle:\n",
        "    training_data = pickle.load(handle)"
      ],
      "execution_count": 0,
      "outputs": []
    },
    {
      "metadata": {
        "id": "Akl4qOmZqdKN",
        "colab_type": "code",
        "colab": {}
      },
      "cell_type": "code",
      "source": [
        "training_info = dict()\n",
        "\n",
        "with open('pickle/infodict0518.pkl', 'rb') as handle:\n",
        "    training_info = pickle.load(handle)"
      ],
      "execution_count": 0,
      "outputs": []
    },
    {
      "metadata": {
        "id": "hS9a70tw5g42",
        "colab_type": "code",
        "colab": {}
      },
      "cell_type": "code",
      "source": [
        "cat_data = dict()\n",
        "\n",
        "with open('pickle/spec_category0518.pkl', 'rb') as handle:\n",
        "    cat_data = pickle.load(handle)"
      ],
      "execution_count": 0,
      "outputs": []
    },
    {
      "metadata": {
        "id": "RHffmfPo5hfh",
        "colab_type": "code",
        "colab": {}
      },
      "cell_type": "code",
      "source": [
        "cat_label = dict()\n",
        "\n",
        "with open('pickle/categories_dict0518.pkl', 'rb') as handle:\n",
        "    cat_label = pickle.load(handle)"
      ],
      "execution_count": 0,
      "outputs": []
    },
    {
      "metadata": {
        "id": "FKAEKmdy6lta",
        "colab_type": "code",
        "colab": {
          "base_uri": "https://localhost:8080/",
          "height": 55
        },
        "outputId": "61c3d5b9-9bd3-419f-db4b-d15e374cd51e"
      },
      "cell_type": "code",
      "source": [
        "cat_info = dict()\n",
        "for cat in cat_data:\n",
        "    info = cat_data[cat]['info']\n",
        "    cat_info[cat] = info\n",
        "print(cat_info.keys())"
      ],
      "execution_count": 30,
      "outputs": [
        {
          "output_type": "stream",
          "text": [
            "dict_keys(['1forge.com', '6-dot-authentiqio.appspot.com', 'adafruit.com', 'adobe.com:aem', 'adyen.com:CheckoutService', 'adyen.com:PaymentService', 'adyen.com:RecurringService', 'afterbanks.com', 'agco-ats.com', 'airport-web.appspot.com', 'amazonaws.com:AWSMigrationHub', 'amazonaws.com:acm', 'amazonaws.com:acm-pca', 'amazonaws.com:alexaforbusiness', 'amazonaws.com:apigateway', 'amazonaws.com:application-autoscaling', 'amazonaws.com:appstream', 'amazonaws.com:appsync', 'amazonaws.com:athena', 'amazonaws.com:autoscaling', 'amazonaws.com:autoscaling-plans', 'amazonaws.com:batch', 'amazonaws.com:budgets', 'amazonaws.com:ce', 'amazonaws.com:cloud9', 'amazonaws.com:clouddirectory', 'amazonaws.com:cloudformation', 'amazonaws.com:cloudfront', 'amazonaws.com:cloudhsm', 'amazonaws.com:cloudhsmv2', 'amazonaws.com:cloudsearch', 'amazonaws.com:cloudsearchdomain', 'amazonaws.com:cloudtrail', 'amazonaws.com:codebuild', 'amazonaws.com:codecommit', 'amazonaws.com:codedeploy', 'amazonaws.com:codepipeline', 'amazonaws.com:codestar', 'amazonaws.com:cognito-identity', 'amazonaws.com:cognito-idp', 'amazonaws.com:cognito-sync', 'amazonaws.com:comprehend', 'amazonaws.com:config', 'amazonaws.com:connect', 'amazonaws.com:cur', 'amazonaws.com:datapipeline', 'amazonaws.com:dax', 'amazonaws.com:devicefarm', 'amazonaws.com:directconnect', 'amazonaws.com:discovery', 'amazonaws.com:dms', 'amazonaws.com:ds', 'amazonaws.com:dynamodb', 'amazonaws.com:ec2', 'amazonaws.com:ecr', 'amazonaws.com:ecs', 'amazonaws.com:elasticache', 'amazonaws.com:elasticbeanstalk', 'amazonaws.com:elasticfilesystem', 'amazonaws.com:elasticloadbalancing', 'amazonaws.com:elasticloadbalancingv2', 'amazonaws.com:elasticmapreduce', 'amazonaws.com:elastictranscoder', 'amazonaws.com:email', 'amazonaws.com:entitlement.marketplace', 'amazonaws.com:es', 'amazonaws.com:events', 'amazonaws.com:firehose', 'amazonaws.com:fms', 'amazonaws.com:gamelift', 'amazonaws.com:glacier', 'amazonaws.com:glue', 'amazonaws.com:greengrass', 'amazonaws.com:guardduty', 'amazonaws.com:health', 'amazonaws.com:iam', 'amazonaws.com:importexport', 'amazonaws.com:inspector', 'amazonaws.com:iot', 'amazonaws.com:iot-data', 'amazonaws.com:iot-jobs-data', 'amazonaws.com:iot1click-devices', 'amazonaws.com:iot1click-projects', 'amazonaws.com:iotanalytics', 'amazonaws.com:kinesis', 'amazonaws.com:kinesis-video-archived-media', 'amazonaws.com:kinesis-video-media', 'amazonaws.com:kinesisanalytics', 'amazonaws.com:kinesisvideo', 'amazonaws.com:kms', 'amazonaws.com:lambda', 'amazonaws.com:lex-models', 'amazonaws.com:lightsail', 'amazonaws.com:logs', 'amazonaws.com:machinelearning', 'amazonaws.com:marketplacecommerceanalytics', 'amazonaws.com:mediaconvert', 'amazonaws.com:medialive', 'amazonaws.com:mediapackage', 'amazonaws.com:mediastore', 'amazonaws.com:mediastore-data', 'amazonaws.com:meteringmarketplace', 'amazonaws.com:mobile', 'amazonaws.com:mobileanalytics', 'amazonaws.com:monitoring', 'amazonaws.com:mq', 'amazonaws.com:mturk-requester', 'amazonaws.com:opsworks', 'amazonaws.com:opsworkscm', 'amazonaws.com:organizations', 'amazonaws.com:pinpoint', 'amazonaws.com:polly', 'amazonaws.com:pricing', 'amazonaws.com:rds', 'amazonaws.com:redshift', 'amazonaws.com:rekognition', 'amazonaws.com:resource-groups', 'amazonaws.com:resourcegroupstaggingapi', 'amazonaws.com:route53', 'amazonaws.com:route53domains', 'amazonaws.com:runtime.lex', 'amazonaws.com:runtime.sagemaker', 'amazonaws.com:s3', 'amazonaws.com:sagemaker', 'amazonaws.com:sdb', 'amazonaws.com:secretsmanager', 'amazonaws.com:serverlessrepo', 'amazonaws.com:servicecatalog', 'amazonaws.com:servicediscovery', 'amazonaws.com:shield', 'amazonaws.com:sms', 'amazonaws.com:snowball', 'amazonaws.com:sns', 'amazonaws.com:sqs', 'amazonaws.com:ssm', 'amazonaws.com:states', 'amazonaws.com:storagegateway', 'amazonaws.com:streams.dynamodb', 'amazonaws.com:sts', 'amazonaws.com:support', 'amazonaws.com:swf', 'amazonaws.com:transcribe', 'amazonaws.com:translate', 'amazonaws.com:waf', 'amazonaws.com:waf-regional', 'amazonaws.com:workdocs', 'amazonaws.com:workmail', 'amazonaws.com:workspaces', 'amazonaws.com:xray', 'anchore.io', 'apache.org:qakka', 'apacta.com', 'api2cart.com', 'apigee.net:marketcheck-cars', 'apimatic.io', 'apis.guru', 'apitore.com:documentFrequencyApis', 'apitore.com:languageDetectionApis', 'apitore.com:sentenceSeparatorApis', 'apitore.com:sentenceSimilarity', 'apitore.com:sentencepieceApis_tweet_', 'apitore.com:sentencepieceApis_wikipedia_', 'apitore.com:sentimentApis', 'apitore.com:synonymApis', 'apitore.com:tweetSummarizationApis', 'apitore.com:twitterApis', 'apitore.com:twitterApisWithSentimentByApitoreSentimentApi', 'apitore.com:twitterApisWithWord2vecQueryExpansion', 'apitore.com:twitterApisWithWord2vecQueryExpansion,AndAddSentimentByApitoreSentimentApi', 'apitore.com:word2vecApis', 'apitore.com:wordnetApis', 'apitore.com:wordnetHypernymApis', 'apitore.com:wordnetHyponymApis', 'apitore.com:wordnetSimilarityApis', 'apitore.com:wordnetSynonymApis', 'apitore.com:wordnetTranslationApis', 'apitore.com:wordsToVectorsApis', 'appveyor.com', 'archive.org:search', 'archive.org:wayback', 'art19.com', 'ato.gov.au', 'aucklandmuseum.com', 'authentiq.io', 'avaza.com', 'aviationdata.systems', 'azure.com:advisor', 'azure.com:analysisservices', 'azure.com:apimanagement', 'azure.com:apimanagement-apimapis', 'azure.com:apimanagement-apimauthorizationservers', 'azure.com:apimanagement-apimbackends', 'azure.com:apimanagement-apimcertificates', 'azure.com:apimanagement-apimdeployment', 'azure.com:apimanagement-apimdiagnostics', 'azure.com:apimanagement-apimemailtemplate', 'azure.com:apimanagement-apimgroups', 'azure.com:apimanagement-apimidentityprovider', 'azure.com:apimanagement-apimloggers', 'azure.com:apimanagement-apimnetworkstatus', 'azure.com:apimanagement-apimnotifications', 'azure.com:apimanagement-apimopenidconnectproviders', 'azure.com:apimanagement-apimproducts', 'azure.com:apimanagement-apimproperties', 'azure.com:apimanagement-apimquotas', 'azure.com:apimanagement-apimreports', 'azure.com:apimanagement-apimsubscriptions', 'azure.com:apimanagement-apimtagresources', 'azure.com:apimanagement-apimtags', 'azure.com:apimanagement-apimtenant', 'azure.com:apimanagement-apimusers', 'azure.com:apimanagement-apimversionsets', 'azure.com:applicationinsights-aiOperations_API', 'azure.com:applicationinsights-componentAnnotations_API', 'azure.com:applicationinsights-componentApiKeys_API', 'azure.com:applicationinsights-componentContinuousExport_API', 'azure.com:applicationinsights-componentFeaturesAndPricing_API', 'azure.com:applicationinsights-componentProactiveDetection_API', 'azure.com:applicationinsights-componentWorkItemConfigs_API', 'azure.com:applicationinsights-components_API', 'azure.com:applicationinsights-favorites_API', 'azure.com:applicationinsights-webTestLocations_API', 'azure.com:applicationinsights-webTests_API', 'azure.com:authorization', 'azure.com:authorization-authorization-ClassicAdminCalls', 'azure.com:authorization-authorization-RACalls', 'azure.com:authorization-authorization-RoleBasedCalls', 'azure.com:automation-account', 'azure.com:automation-certificate', 'azure.com:automation-connection', 'azure.com:automation-connectionType', 'azure.com:automation-credential', 'azure.com:automation-dscCompilationJob', 'azure.com:automation-dscConfiguration', 'azure.com:automation-dscNode', 'azure.com:automation-dscNodeConfiguration', 'azure.com:automation-hybridRunbookWorkerGroup', 'azure.com:automation-job', 'azure.com:automation-jobSchedule', 'azure.com:automation-linkedWorkspace', 'azure.com:automation-module', 'azure.com:automation-runbook', 'azure.com:automation-schedule', 'azure.com:automation-softwareUpdateConfiguration', 'azure.com:automation-softwareUpdateConfigurationMachineRun', 'azure.com:automation-softwareUpdateConfigurationRun', 'azure.com:automation-sourceControl', 'azure.com:automation-sourceControlSyncJob', 'azure.com:automation-variable', 'azure.com:automation-webhook', 'azure.com:azsadmin-Alert', 'azure.com:azsadmin-CommerceAdmin', 'azure.com:azsadmin-EdgeGateway', 'azure.com:azsadmin-EdgeGatewayPool', 'azure.com:azsadmin-FabricLocation', 'azure.com:azsadmin-FileShare', 'azure.com:azsadmin-InfraRole', 'azure.com:azsadmin-InfraRoleInstance', 'azure.com:azsadmin-IpPool', 'azure.com:azsadmin-LogicalNetwork', 'azure.com:azsadmin-LogicalSubnet', 'azure.com:azsadmin-MacAddressPool', 'azure.com:azsadmin-Operations', 'azure.com:azsadmin-RegionHealth', 'azure.com:azsadmin-ResourceHealth', 'azure.com:azsadmin-ScaleUnit', 'azure.com:azsadmin-ScaleUnitNode', 'azure.com:azsadmin-ServiceHealth', 'azure.com:azsadmin-SlbMuxInstance', 'azure.com:azsadmin-StoragePool', 'azure.com:azsadmin-StorageSystem', 'azure.com:azsadmin-Volume', 'azure.com:azurestack-AzureStack', 'azure.com:azurestack-CustomerSubscription', 'azure.com:azurestack-Product', 'azure.com:azurestack-Registration', 'azure.com:batch-BatchManagement', 'azure.com:batchai-BatchAI', 'azure.com:billing', 'azure.com:cdn', 'azure.com:cognitiveservices', 'azure.com:cognitiveservices-ComputerVision', 'azure.com:cognitiveservices-ContentModerator', 'azure.com:cognitiveservices-Face', 'azure.com:cognitiveservices-LUIS-Programmatic', 'azure.com:cognitiveservices-LUIS-Runtime', 'azure.com:cognitiveservices-TextAnalytics', 'azure.com:commerce', 'azure.com:compute', 'azure.com:compute-containerService', 'azure.com:compute-disk', 'azure.com:compute-runCommands', 'azure.com:compute-skus', 'azure.com:compute-swagger', 'azure.com:consumption', 'azure.com:containerinstance-containerInstance', 'azure.com:containerregistry', 'azure.com:containerservices-containerService', 'azure.com:containerservices-location', 'azure.com:containerservices-managedClusters', 'azure.com:cosmos-db', 'azure.com:customer-insights', 'azure.com:datacatalog', 'azure.com:datafactory', 'azure.com:datalake-analytics-account', 'azure.com:datalake-analytics-catalog', 'azure.com:datalake-analytics-job', 'azure.com:datalake-store-account', 'azure.com:datalake-store-filesystem', 'azure.com:datamigration', 'azure.com:deviceprovisioningservices-iotdps', 'azure.com:devtestlabs-DTL', 'azure.com:dns', 'azure.com:domainservices', 'azure.com:eventgrid-EventGrid', 'azure.com:eventhub-EventHub', 'azure.com:hanaonazure', 'azure.com:hdinsight-applications', 'azure.com:hdinsight-capabilities', 'azure.com:hdinsight-cluster', 'azure.com:hdinsight-configurations', 'azure.com:hdinsight-extensions', 'azure.com:hdinsight-operations', 'azure.com:hdinsight-scriptActions', 'azure.com:intune', 'azure.com:iothub', 'azure.com:keyvault', 'azure.com:keyvault-providers', 'azure.com:keyvault-secrets', 'azure.com:locationbasedservices', 'azure.com:logic', 'azure.com:machinelearning-commitmentPlans', 'azure.com:machinelearning-webservices', 'azure.com:machinelearning-workspaces', 'azure.com:machinelearningcompute-machineLearningCompute', 'azure.com:machinelearningexperimentation-machineLearningExperimentation', 'azure.com:managementgroups-management', 'azure.com:managementpartner-ManagementPartner', 'azure.com:marketplaceordering-Agreements', 'azure.com:mediaservices-media', 'azure.com:migrate', 'azure.com:mobileengagement-mobile-engagement', 'azure.com:monitor-actionGroups_API', 'azure.com:monitor-activityLogAlerts_API', 'azure.com:monitor-activityLogs_API', 'azure.com:monitor-alertRulesIncidents_API', 'azure.com:monitor-alertRules_API', 'azure.com:monitor-autoscale_API', 'azure.com:monitor-baseline_API', 'azure.com:monitor-calculateBaseline_API', 'azure.com:monitor-diagnosticsSettingsCategories_API', 'azure.com:monitor-diagnosticsSettings_API', 'azure.com:monitor-eventCategories_API', 'azure.com:monitor-logProfiles_API', 'azure.com:monitor-metricDefinitions_API', 'azure.com:monitor-metrics_API', 'azure.com:monitor-operations_API', 'azure.com:monitor-serviceDiagnosticsSettings_API', 'azure.com:monitor-tenantActivityLogs_API', 'azure.com:msi-ManagedIdentity', 'azure.com:mysql', 'azure.com:network', 'azure.com:network-applicationGateway', 'azure.com:network-applicationSecurityGroup', 'azure.com:network-checkDnsAvailability', 'azure.com:network-endpointService', 'azure.com:network-expressRouteCircuit', 'azure.com:network-loadBalancer', 'azure.com:network-networkInterface', 'azure.com:network-networkSecurityGroup', 'azure.com:network-networkWatcher', 'azure.com:network-operation', 'azure.com:network-publicIpAddress', 'azure.com:network-routeFilter', 'azure.com:network-routeTable', 'azure.com:network-serviceCommunity', 'azure.com:network-usage', 'azure.com:network-virtualNetwork', 'azure.com:network-virtualNetworkGateway', 'azure.com:network-vmssNetworkInterface', 'azure.com:network-vmssPublicIpAddress', 'azure.com:notificationhubs', 'azure.com:operationalinsights-OperationalInsights', 'azure.com:operationsmanagement-OperationsManagement', 'azure.com:policyinsights-policyEvents', 'azure.com:policyinsights-policyStates', 'azure.com:postgresql', 'azure.com:powerbidedicated', 'azure.com:powerbiembedded', 'azure.com:provisioningservices-iotdps', 'azure.com:recoveryservices-backup', 'azure.com:recoveryservices-registeredidentities', 'azure.com:recoveryservices-replicationusages', 'azure.com:recoveryservices-vaults', 'azure.com:recoveryservices-vaultusages', 'azure.com:recoveryservicesbackup', 'azure.com:recoveryservicesbackup-backupManagement', 'azure.com:recoveryservicesbackup-bms', 'azure.com:recoveryservicesbackup-jobs', 'azure.com:recoveryservicesbackup-operations', 'azure.com:recoveryservicesbackup-registeredIdentities', 'azure.com:recoveryservicessiterecovery-service', 'azure.com:redis', 'azure.com:relay', 'azure.com:reservations', 'azure.com:resourcehealth', 'azure.com:resources', 'azure.com:resources-features', 'azure.com:resources-links', 'azure.com:resources-locks', 'azure.com:resources-managedapplications', 'azure.com:resources-management', 'azure.com:resources-policy', 'azure.com:resources-policyAssignments', 'azure.com:resources-policyDefinitions', 'azure.com:resources-policySetDefinitions', 'azure.com:resources-subscriptions', 'azure.com:scheduler', 'azure.com:search', 'azure.com:search-searchindex', 'azure.com:search-searchservice', 'azure.com:servermanagement', 'azure.com:service-map-arm-service-map', 'azure.com:servicebus', 'azure.com:servicefabric', 'azure.com:sql-Databases', 'azure.com:sql-advisors', 'azure.com:sql-backupLongTermRetentionPolicies', 'azure.com:sql-backupLongTermRetentionVaults', 'azure.com:sql-backups', 'azure.com:sql-blobAuditingPolicies', 'azure.com:sql-cancelOperations', 'azure.com:sql-cancelPoolOperations', 'azure.com:sql-capabilities', 'azure.com:sql-checkNameAvailability', 'azure.com:sql-connectionPolicies', 'azure.com:sql-dataMasking', 'azure.com:sql-dataWarehouseUserActivities', 'azure.com:sql-databaseAutomaticTuning', 'azure.com:sql-databaseSecurityAlertPolicies', 'azure.com:sql-databases', 'azure.com:sql-deprecated', 'azure.com:sql-disasterRecoveryConfigurations', 'azure.com:sql-elasticPools', 'azure.com:sql-encryptionProtectors', 'azure.com:sql-failoverGroups', 'azure.com:sql-firewallRules', 'azure.com:sql-geoBackupPolicies', 'azure.com:sql-importExport', 'azure.com:sql-managedDatabases', 'azure.com:sql-metrics', 'azure.com:sql-operations', 'azure.com:sql-queries', 'azure.com:sql-renameDatabase', 'azure.com:sql-replicationLinks', 'azure.com:sql-restorePoints', 'azure.com:sql-serverAutomaticTuning', 'azure.com:sql-serverAzureADAdministrators', 'azure.com:sql-serverCommunicationLinks', 'azure.com:sql-serverDnsAliases', 'azure.com:sql-serverKeys', 'azure.com:sql-servers', 'azure.com:sql-serviceObjectives', 'azure.com:sql-sql.core', 'azure.com:sql-syncAgents', 'azure.com:sql-syncGroups', 'azure.com:sql-syncMembers', 'azure.com:sql-tableAuditing', 'azure.com:sql-usages', 'azure.com:sql-virtualNetworkRules', 'azure.com:storage', 'azure.com:storageimportexport', 'azure.com:storsimple8000series-storsimple', 'azure.com:streamanalytics-functions', 'azure.com:streamanalytics-inputs', 'azure.com:streamanalytics-outputs', 'azure.com:streamanalytics-streamingjobs', 'azure.com:streamanalytics-subscriptions', 'azure.com:streamanalytics-transformations', 'azure.com:subscription-subscriptionDefinitions', 'azure.com:timeseriesinsights', 'azure.com:trafficmanager', 'azure.com:trafficmanager-trafficmanageranalytics', 'azure.com:visualstudio-Csm', 'azure.com:web-AppServiceCertificateOrders', 'azure.com:web-AppServiceEnvironments', 'azure.com:web-AppServicePlans', 'azure.com:web-CertificateRegistrationProvider', 'azure.com:web-Certificates', 'azure.com:web-DeletedWebApps', 'azure.com:web-Diagnostics', 'azure.com:web-DomainRegistrationProvider', 'azure.com:web-Domains', 'azure.com:web-Provider', 'azure.com:web-Recommendations', 'azure.com:web-ResourceProvider', 'azure.com:web-TopLevelDomains', 'azure.com:web-WebApps', 'azure.com:web-logicAppsManagementClient', 'azure.com:web-service', 'bbc.co.uk', 'bbc.com', 'bbci.co.uk', 'bclaws.ca:bclaws', 'beanstream.com', 'beezup.com', 'betfair.com', 'bhagavadgita.io', 'bikewise.org', 'bitbucket.org', 'blazemeter.com', 'bluemix.net:containers', 'botify.com', 'box.com:authorization', 'box.com:content', 'box.com:token', 'box.com:upload', 'brandlovers.com', 'brex.io', 'browshot.com', 'bufferapp.com', 'bulksms.com', 'bungie.net', 'callfire.com', 'carbondoomsday.com', 'ccp.is', 'channel4.com', 'circleci.com', 'circuitsandbox.net', 'cisco.com', 'citrixonline.com:gotomeeting', 'citycontext.com', 'clarify.io', 'clever-cloud.com', 'clever.com', 'clickmeter.com', 'cloudmersive.com:ocr', 'cnab-online.herokuapp.com', 'code-scan.com', 'consumerfinance.gov', 'core.ac.uk', 'cybertaxonomy.eu', 'dataatwork.org', 'datumbox.com', 'deeparteffects.com', 'deutschebahn.com:betriebsstellen', 'deutschebahn.com:fahrplan', 'deutschebahn.com:fasta', 'deutschebahn.com:flinkster', 'deutschebahn.com:reisezentren', 'deutschebahn.com:stada', 'digitallinguistics.io', 'docker.com:engine', 'docusign.net', 'domainsdb.info', 'dracoon.team', 'dropx.io', 'dweet.io', 'ebay.com:buy-browse', 'ebay.com:buy-feed', 'ebay.com:buy-marketing', 'ebay.com:commerce-taxonomy', 'ebay.com:sell-fulfillment', 'envoice.in', 'epa.gov:air', 'epa.gov:case', 'epa.gov:cwa', 'epa.gov:dfr', 'epa.gov:echo', 'epa.gov:eff', 'epa.gov:rcra', 'epa.gov:sdw', 'etmdb.com', 'europeana.eu', 'exavault.com', 'fantasydata.net:cbb-v3-scores', 'fantasydata.net:cbb-v3-stats', 'fantasydata.net:cfb-v3-scores', 'fantasydata.net:golf-v2', 'fantasydata.net:mlb-v3-play-by-play', 'fantasydata.net:mlb-v3-projections', 'fantasydata.net:mlb-v3-projections-dfsr', 'fantasydata.net:mlb-v3-rotoballer-articles', 'fantasydata.net:mlb-v3-rotoballer-premium-news', 'fantasydata.net:mlb-v3-scores', 'fantasydata.net:mlb-v3-stats', 'fantasydata.net:nascar-v2', 'fantasydata.net:nba-v3-play-by-play', 'fantasydata.net:nba-v3-projections', 'fantasydata.net:nba-v3-rotoballer-articles', 'fantasydata.net:nba-v3-rotoballer-premium-news', 'fantasydata.net:nba-v3-scores', 'fantasydata.net:nba-v3-stats', 'fantasydata.net:nfl-v3-play-by-play', 'fantasydata.net:nfl-v3-projections', 'fantasydata.net:nfl-v3-projections-dfsr', 'fantasydata.net:nfl-v3-rotoballer-articles', 'fantasydata.net:nfl-v3-rotoballer-premium-news', 'fantasydata.net:nfl-v3-scores', 'fantasydata.net:nfl-v3-stats', 'fantasydata.net:nhl-v3-play-by-play', 'fantasydata.net:nhl-v3-projections', 'fantasydata.net:nhl-v3-scores', 'fantasydata.net:nhl-v3-stats', 'fantasydata.net:soccer-v3-projections', 'fantasydata.net:soccer-v3-scores', 'fantasydata.net:soccer-v3-stats', 'figshare.com', 'firebrowse.org', 'flat.io', 'flickr.com', 'formapi.io', 'freesound.org', 'funtranslations.com', 'furkot.com', 'geneea.com', 'getsandbox.com', 'gettyimages.com', 'giphy.com', 'gisgraphy.com', 'github.com', 'gitlab.com', 'googleapis.com:admin', 'googleapis.com:analytics', 'googleapis.com:analyticsreporting', 'googleapis.com:androidpublisher', 'googleapis.com:bigquery', 'googleapis.com:blogger', 'googleapis.com:books', 'googleapis.com:calendar', 'googleapis.com:classroom', 'googleapis.com:cloudkms', 'googleapis.com:cloudmonitoring', 'googleapis.com:content', 'googleapis.com:customsearch', 'googleapis.com:datastore', 'googleapis.com:discovery', 'googleapis.com:dlp', 'googleapis.com:dns', 'googleapis.com:doubleclickbidmanager', 'googleapis.com:doubleclicksearch', 'googleapis.com:drive', 'googleapis.com:firebasedynamiclinks', 'googleapis.com:firebaseremoteconfig', 'googleapis.com:firebaserules', 'googleapis.com:firestore', 'googleapis.com:fusiontables', 'googleapis.com:games', 'googleapis.com:gamesConfiguration', 'googleapis.com:gamesManagement', 'googleapis.com:gmail', 'googleapis.com:groupsmigration', 'googleapis.com:groupssettings', 'googleapis.com:iam', 'googleapis.com:identitytoolkit', 'googleapis.com:kgsearch', 'googleapis.com:language', 'googleapis.com:licensing', 'googleapis.com:logging', 'googleapis.com:manufacturers', 'googleapis.com:ml', 'googleapis.com:monitoring', 'googleapis.com:oauth2', 'googleapis.com:oslogin', 'googleapis.com:pagespeedonline', 'googleapis.com:people', 'googleapis.com:playcustomapp', 'googleapis.com:playmoviespartner', 'googleapis.com:plus', 'googleapis.com:plusDomains', 'googleapis.com:prediction', 'googleapis.com:proximitybeacon', 'googleapis.com:pubsub', 'googleapis.com:replicapool', 'googleapis.com:replicapoolupdater', 'googleapis.com:reseller', 'googleapis.com:resourceviews', 'googleapis.com:runtimeconfig', 'googleapis.com:safebrowsing', 'googleapis.com:script', 'googleapis.com:searchconsole', 'googleapis.com:servicecontrol', 'googleapis.com:servicemanagement', 'googleapis.com:serviceuser', 'googleapis.com:sheets', 'googleapis.com:siteVerification', 'googleapis.com:slides', 'googleapis.com:sourcerepo', 'googleapis.com:spanner', 'googleapis.com:spectrum', 'googleapis.com:speech', 'googleapis.com:sqladmin', 'googleapis.com:storage', 'googleapis.com:storagetransfer', 'googleapis.com:streetviewpublish', 'googleapis.com:tagmanager', 'googleapis.com:taskqueue', 'googleapis.com:tasks', 'googleapis.com:testing', 'googleapis.com:translate', 'googleapis.com:urlshortener', 'googleapis.com:vault', 'googleapis.com:videointelligence', 'googleapis.com:vision', 'googleapis.com:webfonts', 'googleapis.com:webmasters', 'googleapis.com:youtube', 'googleapis.com:youtubeAnalytics', 'googleapis.com:youtubereporting', 'gov.bc.ca:bcdc', 'gov.bc.ca:bcgnws', 'gov.bc.ca:geocoder', 'gov.bc.ca:geomark', 'gov.bc.ca:gwells', 'gov.bc.ca:jobposting', 'gov.bc.ca:news', 'gov.bc.ca:open511', 'gov.bc.ca:router', 'graphhopper.com', 'greenpeace.org', 'hackathonwatch.com', 'haloapi.com:metadata', 'haloapi.com:profile', 'haloapi.com:stats', 'haloapi.com:ugc', 'healthcare.gov', 'hhs.gov', 'highwaysengland.co.uk', 'hillbillysoftware.com:shinobi', 'hsbc.com', 'icons8.com', 'idtbeyond.com', 'ijenko.net', 'illumidesk.com', 'import.io:data', 'import.io:extraction', 'import.io:rss', 'import.io:run', 'import.io:schedule', 'inboxroute.com', 'instagram.com', 'instawell.com', 'iqualify.com', 'isbndb.com', 'isendpro.com', 'iva-api.com', 'je-apis.com', 'jirafe.com', 'jumpseller.com', 'just-eat.co.uk', 'koomalooma.com', 'kubernetes.io', 'landregistry.gov.uk:deed', 'launchdarkly.com', 'learnifier.com', 'letmc.com:basic-tier', 'letmc.com:customer', 'letmc.com:diary', 'letmc.com:free-tier', 'letmc.com:maintenance', 'letmc.com:reporting', 'link.fish', 'lotadata.com', 'lufthansa.com:partner', 'lufthansa.com:public', 'lyft.com', 'magento.com', 'magick.nu', 'mandrillapp.com', 'mashape.com:geodb', 'mcw.edu', 'medium.com', 'miataru.com', 'microsoft.com:cognitiveservices-CustomSearch', 'microsoft.com:cognitiveservices-EntitySearch', 'microsoft.com:cognitiveservices-ImageSearch', 'microsoft.com:cognitiveservices-NewsSearch', 'microsoft.com:cognitiveservices-Prediction', 'microsoft.com:cognitiveservices-SpellCheck', 'microsoft.com:cognitiveservices-Training', 'microsoft.com:cognitiveservices-VideoSearch', 'microsoft.com:cognitiveservices-WebSearch', 'motaword.com', 'mozilla.com:kinto', 'nativeads.com', 'naviplancentral.com:factfinder', 'naviplancentral.com:plan', 'nba.com', 'neowsapp.com', 'netatmo.net', 'netlicensing.io', 'netlify.com', 'neutrinoapi.com', 'nfusionsolutions.biz', 'noosh.com', 'npr.org', 'nrel.gov:building-case-studies', 'nrel.gov:transportation-incentives-laws', 'nsidc.org', 'nytimes.com:archive', 'nytimes.com:article_search', 'nytimes.com:books_api', 'nytimes.com:community', 'nytimes.com:geo_api', 'nytimes.com:most_popular_api', 'nytimes.com:movie_reviews', 'nytimes.com:semantic_api', 'nytimes.com:times_tags', 'nytimes.com:timeswire', 'nytimes.com:top_stories', 'o2.cz:mobility', 'o2.cz:sociodemo', 'oceandrivers.com', 'omdbapi.com', 'openapi-converter.herokuapp.com', 'openbanking.org.uk', 'opencagedata.com', 'opendatanetwork.com', 'opendatasoft.com', 'openfintech.io', 'openstf.io', 'opentargets.io', 'osf.io', 'osisoft.com', 'owler.com', 'oxforddictionaries.com', 'paccurate.io', 'pandorabots.com', 'passwordutility.net', 'paylocity.com', 'payments.service.gov.uk:payments', 'payrun.io', 'peel-ci.com', 'personio.de:authentication', 'personio.de:personnel', 'phila.gov:pollingplaces', 'polygon.io', 'postmarkapp.com:account', 'postmarkapp.com:server', 'posty-api.herokuapp.com', 'ptv.vic.gov.au', 'qualpay.com', 'quotes.rest', 'rbaskets.in', 'rebilly.com', 'receptive.io', 'refugerestrooms.org', 'reverb.com', 'ritc.io', 'ritekit.com', 'roaring.io', 'rottentomatoes.com', 'rummblelabs.com', 'runscope.com', 'salesloft.com', 'schooldigger.com', 'scrapewebsite.email', 'selectpdf.com', 'semantria.com', 'sendgrid.com', 'shipstation.com', 'slack.com', 'slicebox.local', 'smart-me.com', 'spectrocoin.com', 'spinitron.com', 'spotify.com', 'squareup.com', 'stackexchange.com', 'staging-ecotaco.com', 'statsocial.com', 'stoplight.io', 'storecove.com', 'stormglass.io', 'stripe.com', 'surrey.ca:open511', 'surrey.ca:trafficloops', 'swagger.io:generator', 'swaggerhub.com', 'synq.fm', 'taggun.io', 'taxamo.com', 'taxrates.io', 'tfl.gov.uk', 'thenounproject.com', 'thesmsworks.co.uk', 'thetvdb.com', 'traccar.org', 'transavia.com', 'trello.com', 'turbinelabs.io', 'tvmaze.com', 'twilio.com', 'twinehealth.com', 'twitter.com', 'tyk.com', 'uebermaps.com', 'vatapi.com', 'versioneye.com', 'vestorly.com', 'victorops.com', 'visagecloud.com', 'vocadb.net', 'voodoomfg.com', 'waag.org', 'walmart.com:inventory', 'walmart.com:item', 'walmart.com:order', 'walmart.com:price', 'watchful.li', 'waterlinked.com', 'wavecell.com', 'wealthport.com', 'weatherbit.io', 'weber-gesamtausgabe.de', 'whapi.com:accounts', 'whapi.com:bets', 'whapi.com:locations', 'whapi.com:numbers', 'whapi.com:sessions', 'whapi.com:sportsdata', 'who-hosts-this.com', 'wikimedia.org', 'windows.net:batch-BatchService', 'windows.net:graphrbac', 'winning.email', 'winsms.co.za', 'wmata.com:bus-realtime', 'wmata.com:bus-route', 'wmata.com:incidents', 'wmata.com:rail-realtime', 'wmata.com:rail-station', 'wordassociations.net', 'wordnik.com', 'wowza.com', 'wso2apistore.com:transform', 'xero.com', 'xkcd.com', 'yunbi.com', 'zalando.com', 'zappiti.com', 'zoom.us', 'zoomconnect.com', 'zuora.com'])\n"
          ],
          "name": "stdout"
        }
      ]
    },
    {
      "metadata": {
        "id": "mr8p9iekqf7V",
        "colab_type": "code",
        "colab": {
          "base_uri": "https://localhost:8080/",
          "height": 55
        },
        "outputId": "80771c80-24bf-4026-b6a3-b94a15cb4fb4"
      },
      "cell_type": "code",
      "source": [
        "paths = dict()\n",
        "for path in training_data:\n",
        "    info = training_data[path]['paths']\n",
        "    paths[path] = info\n",
        "print(paths.keys())"
      ],
      "execution_count": 31,
      "outputs": [
        {
          "output_type": "stream",
          "text": [
            "dict_keys(['1forge.com', '6-dot-authentiqio.appspot.com', 'adafruit.com', 'adobe.com:aem', 'adyen.com:CheckoutService', 'adyen.com:PaymentService', 'adyen.com:RecurringService', 'afterbanks.com', 'agco-ats.com', 'airport-web.appspot.com', 'amadeus.com', 'amazonaws.com:AWSMigrationHub', 'amazonaws.com:acm', 'amazonaws.com:acm-pca', 'amazonaws.com:alexaforbusiness', 'amazonaws.com:apigateway', 'amazonaws.com:application-autoscaling', 'amazonaws.com:appstream', 'amazonaws.com:appsync', 'amazonaws.com:athena', 'amazonaws.com:autoscaling', 'amazonaws.com:autoscaling-plans', 'amazonaws.com:batch', 'amazonaws.com:budgets', 'amazonaws.com:ce', 'amazonaws.com:cloud9', 'amazonaws.com:clouddirectory', 'amazonaws.com:cloudformation', 'amazonaws.com:cloudfront', 'amazonaws.com:cloudhsm', 'amazonaws.com:cloudhsmv2', 'amazonaws.com:cloudsearch', 'amazonaws.com:cloudsearchdomain', 'amazonaws.com:cloudtrail', 'amazonaws.com:codebuild', 'amazonaws.com:codecommit', 'amazonaws.com:codedeploy', 'amazonaws.com:codepipeline', 'amazonaws.com:codestar', 'amazonaws.com:cognito-identity', 'amazonaws.com:cognito-idp', 'amazonaws.com:cognito-sync', 'amazonaws.com:comprehend', 'amazonaws.com:config', 'amazonaws.com:connect', 'amazonaws.com:cur', 'amazonaws.com:datapipeline', 'amazonaws.com:dax', 'amazonaws.com:devicefarm', 'amazonaws.com:directconnect', 'amazonaws.com:discovery', 'amazonaws.com:dms', 'amazonaws.com:ds', 'amazonaws.com:dynamodb', 'amazonaws.com:ec2', 'amazonaws.com:ecr', 'amazonaws.com:ecs', 'amazonaws.com:elasticache', 'amazonaws.com:elasticbeanstalk', 'amazonaws.com:elasticfilesystem', 'amazonaws.com:elasticloadbalancing', 'amazonaws.com:elasticloadbalancingv2', 'amazonaws.com:elasticmapreduce', 'amazonaws.com:elastictranscoder', 'amazonaws.com:email', 'amazonaws.com:entitlement.marketplace', 'amazonaws.com:es', 'amazonaws.com:events', 'amazonaws.com:firehose', 'amazonaws.com:fms', 'amazonaws.com:gamelift', 'amazonaws.com:glacier', 'amazonaws.com:glue', 'amazonaws.com:greengrass', 'amazonaws.com:guardduty', 'amazonaws.com:health', 'amazonaws.com:iam', 'amazonaws.com:importexport', 'amazonaws.com:inspector', 'amazonaws.com:iot', 'amazonaws.com:iot-data', 'amazonaws.com:iot-jobs-data', 'amazonaws.com:iot1click-devices', 'amazonaws.com:iot1click-projects', 'amazonaws.com:iotanalytics', 'amazonaws.com:kinesis', 'amazonaws.com:kinesis-video-archived-media', 'amazonaws.com:kinesis-video-media', 'amazonaws.com:kinesisanalytics', 'amazonaws.com:kinesisvideo', 'amazonaws.com:kms', 'amazonaws.com:lambda', 'amazonaws.com:lex-models', 'amazonaws.com:lightsail', 'amazonaws.com:logs', 'amazonaws.com:machinelearning', 'amazonaws.com:marketplacecommerceanalytics', 'amazonaws.com:mediaconvert', 'amazonaws.com:medialive', 'amazonaws.com:mediapackage', 'amazonaws.com:mediastore', 'amazonaws.com:mediastore-data', 'amazonaws.com:meteringmarketplace', 'amazonaws.com:mobile', 'amazonaws.com:mobileanalytics', 'amazonaws.com:monitoring', 'amazonaws.com:mq', 'amazonaws.com:mturk-requester', 'amazonaws.com:opsworks', 'amazonaws.com:opsworkscm', 'amazonaws.com:organizations', 'amazonaws.com:pinpoint', 'amazonaws.com:polly', 'amazonaws.com:pricing', 'amazonaws.com:rds', 'amazonaws.com:redshift', 'amazonaws.com:rekognition', 'amazonaws.com:resource-groups', 'amazonaws.com:resourcegroupstaggingapi', 'amazonaws.com:route53', 'amazonaws.com:route53domains', 'amazonaws.com:runtime.lex', 'amazonaws.com:runtime.sagemaker', 'amazonaws.com:s3', 'amazonaws.com:sagemaker', 'amazonaws.com:sdb', 'amazonaws.com:secretsmanager', 'amazonaws.com:serverlessrepo', 'amazonaws.com:servicecatalog', 'amazonaws.com:servicediscovery', 'amazonaws.com:shield', 'amazonaws.com:sms', 'amazonaws.com:snowball', 'amazonaws.com:sns', 'amazonaws.com:sqs', 'amazonaws.com:ssm', 'amazonaws.com:states', 'amazonaws.com:storagegateway', 'amazonaws.com:streams.dynamodb', 'amazonaws.com:sts', 'amazonaws.com:support', 'amazonaws.com:swf', 'amazonaws.com:transcribe', 'amazonaws.com:translate', 'amazonaws.com:waf', 'amazonaws.com:waf-regional', 'amazonaws.com:workdocs', 'amazonaws.com:workmail', 'amazonaws.com:workspaces', 'amazonaws.com:xray', 'anchore.io', 'apache.org:qakka', 'apacta.com', 'api2cart.com', 'apigee.net:marketcheck-cars', 'apimatic.io', 'apis.guru', 'apitore.com:2chMatomeFeedsApis', 'apitore.com:certificateFeedsApis', 'apitore.com:cosineSimilarity', 'apitore.com:designFeedsApis', 'apitore.com:documentFrequencyApis', 'apitore.com:gameFeedsApis', 'apitore.com:japaneseWordnetApis', 'apitore.com:kmeansClusteringByWord2vec', 'apitore.com:kuromojiApis', 'apitore.com:languageDetectionApis', 'apitore.com:newsFeedsApis', 'apitore.com:pioneerBlogFeedsApis', 'apitore.com:rss2jsonApis', 'apitore.com:sentenceSeparatorApis', 'apitore.com:sentenceSimilarity', 'apitore.com:sentencepieceApis_tweet_', 'apitore.com:sentencepieceApis_wikipedia_', 'apitore.com:sentimentApis', 'apitore.com:synonymApis', 'apitore.com:techFeedsApis', 'apitore.com:text2labelByTfidfApis', 'apitore.com:text2labelByWordVectorApis', 'apitore.com:travelFeedsApis', 'apitore.com:tweetSummarizationApis', 'apitore.com:twitterApis', 'apitore.com:twitterApisWithSentimentByApitoreSentimentApi', 'apitore.com:twitterApisWithWord2vecQueryExpansion', 'apitore.com:twitterApisWithWord2vecQueryExpansion,AndAddSentimentByApitoreSentimentApi', 'apitore.com:url2hrefApis', 'apitore.com:url2htmlApis', 'apitore.com:url2labelByTfidfApis', 'apitore.com:url2labelByWordVectorApis', 'apitore.com:url2srcApis', 'apitore.com:url2textApis', 'apitore.com:word2vecApis', 'apitore.com:wordnetApis', 'apitore.com:wordnetHypernymApis', 'apitore.com:wordnetHyponymApis', 'apitore.com:wordnetSimilarityApis', 'apitore.com:wordnetSynonymApis', 'apitore.com:wordnetTranslationApis', 'apitore.com:wordsToVectorsApis', 'appveyor.com', 'archive.org:search', 'archive.org:wayback', 'art19.com', 'ato.gov.au', 'aucklandmuseum.com', 'authentiq.io', 'avaza.com', 'aviationdata.systems', 'azure.com:advisor', 'azure.com:analysisservices', 'azure.com:apimanagement', 'azure.com:apimanagement-apimapis', 'azure.com:apimanagement-apimauthorizationservers', 'azure.com:apimanagement-apimbackends', 'azure.com:apimanagement-apimcertificates', 'azure.com:apimanagement-apimdeployment', 'azure.com:apimanagement-apimdiagnostics', 'azure.com:apimanagement-apimemailtemplate', 'azure.com:apimanagement-apimgroups', 'azure.com:apimanagement-apimidentityprovider', 'azure.com:apimanagement-apimloggers', 'azure.com:apimanagement-apimnetworkstatus', 'azure.com:apimanagement-apimnotifications', 'azure.com:apimanagement-apimopenidconnectproviders', 'azure.com:apimanagement-apimproducts', 'azure.com:apimanagement-apimproperties', 'azure.com:apimanagement-apimquotas', 'azure.com:apimanagement-apimreports', 'azure.com:apimanagement-apimsubscriptions', 'azure.com:apimanagement-apimtagresources', 'azure.com:apimanagement-apimtags', 'azure.com:apimanagement-apimtenant', 'azure.com:apimanagement-apimusers', 'azure.com:apimanagement-apimversionsets', 'azure.com:applicationinsights-aiOperations_API', 'azure.com:applicationinsights-componentAnnotations_API', 'azure.com:applicationinsights-componentApiKeys_API', 'azure.com:applicationinsights-componentContinuousExport_API', 'azure.com:applicationinsights-componentFeaturesAndPricing_API', 'azure.com:applicationinsights-componentProactiveDetection_API', 'azure.com:applicationinsights-componentWorkItemConfigs_API', 'azure.com:applicationinsights-components_API', 'azure.com:applicationinsights-favorites_API', 'azure.com:applicationinsights-webTestLocations_API', 'azure.com:applicationinsights-webTests_API', 'azure.com:authorization', 'azure.com:authorization-authorization-ClassicAdminCalls', 'azure.com:authorization-authorization-RACalls', 'azure.com:authorization-authorization-RoleBasedCalls', 'azure.com:automation-account', 'azure.com:automation-certificate', 'azure.com:automation-connection', 'azure.com:automation-connectionType', 'azure.com:automation-credential', 'azure.com:automation-dscCompilationJob', 'azure.com:automation-dscConfiguration', 'azure.com:automation-dscNode', 'azure.com:automation-dscNodeConfiguration', 'azure.com:automation-hybridRunbookWorkerGroup', 'azure.com:automation-job', 'azure.com:automation-jobSchedule', 'azure.com:automation-linkedWorkspace', 'azure.com:automation-module', 'azure.com:automation-runbook', 'azure.com:automation-schedule', 'azure.com:automation-softwareUpdateConfiguration', 'azure.com:automation-softwareUpdateConfigurationMachineRun', 'azure.com:automation-softwareUpdateConfigurationRun', 'azure.com:automation-sourceControl', 'azure.com:automation-sourceControlSyncJob', 'azure.com:automation-variable', 'azure.com:automation-webhook', 'azure.com:azsadmin-Alert', 'azure.com:azsadmin-CommerceAdmin', 'azure.com:azsadmin-EdgeGateway', 'azure.com:azsadmin-EdgeGatewayPool', 'azure.com:azsadmin-FabricLocation', 'azure.com:azsadmin-FileShare', 'azure.com:azsadmin-InfraRole', 'azure.com:azsadmin-InfraRoleInstance', 'azure.com:azsadmin-IpPool', 'azure.com:azsadmin-LogicalNetwork', 'azure.com:azsadmin-LogicalSubnet', 'azure.com:azsadmin-MacAddressPool', 'azure.com:azsadmin-Operations', 'azure.com:azsadmin-RegionHealth', 'azure.com:azsadmin-ResourceHealth', 'azure.com:azsadmin-ScaleUnit', 'azure.com:azsadmin-ScaleUnitNode', 'azure.com:azsadmin-ServiceHealth', 'azure.com:azsadmin-SlbMuxInstance', 'azure.com:azsadmin-StoragePool', 'azure.com:azsadmin-StorageSystem', 'azure.com:azsadmin-Volume', 'azure.com:azurestack-AzureStack', 'azure.com:azurestack-CustomerSubscription', 'azure.com:azurestack-Product', 'azure.com:azurestack-Registration', 'azure.com:batch-BatchManagement', 'azure.com:batchai-BatchAI', 'azure.com:billing', 'azure.com:cdn', 'azure.com:cognitiveservices', 'azure.com:cognitiveservices-ComputerVision', 'azure.com:cognitiveservices-ContentModerator', 'azure.com:cognitiveservices-Face', 'azure.com:cognitiveservices-LUIS-Programmatic', 'azure.com:cognitiveservices-LUIS-Runtime', 'azure.com:cognitiveservices-TextAnalytics', 'azure.com:commerce', 'azure.com:compute', 'azure.com:compute-containerService', 'azure.com:compute-disk', 'azure.com:compute-runCommands', 'azure.com:compute-skus', 'azure.com:compute-swagger', 'azure.com:consumption', 'azure.com:containerinstance-containerInstance', 'azure.com:containerregistry', 'azure.com:containerservices-containerService', 'azure.com:containerservices-location', 'azure.com:containerservices-managedClusters', 'azure.com:cosmos-db', 'azure.com:customer-insights', 'azure.com:datacatalog', 'azure.com:datafactory', 'azure.com:datalake-analytics-account', 'azure.com:datalake-analytics-catalog', 'azure.com:datalake-analytics-job', 'azure.com:datalake-store-account', 'azure.com:datalake-store-filesystem', 'azure.com:datamigration', 'azure.com:deviceprovisioningservices-iotdps', 'azure.com:devtestlabs-DTL', 'azure.com:dns', 'azure.com:domainservices', 'azure.com:eventgrid-EventGrid', 'azure.com:eventhub-EventHub', 'azure.com:hanaonazure', 'azure.com:hdinsight-applications', 'azure.com:hdinsight-capabilities', 'azure.com:hdinsight-cluster', 'azure.com:hdinsight-configurations', 'azure.com:hdinsight-extensions', 'azure.com:hdinsight-operations', 'azure.com:hdinsight-scriptActions', 'azure.com:intune', 'azure.com:iothub', 'azure.com:keyvault', 'azure.com:keyvault-providers', 'azure.com:keyvault-secrets', 'azure.com:locationbasedservices', 'azure.com:logic', 'azure.com:machinelearning-commitmentPlans', 'azure.com:machinelearning-webservices', 'azure.com:machinelearning-workspaces', 'azure.com:machinelearningcompute-machineLearningCompute', 'azure.com:machinelearningexperimentation-machineLearningExperimentation', 'azure.com:managementgroups-management', 'azure.com:managementpartner-ManagementPartner', 'azure.com:marketplaceordering-Agreements', 'azure.com:mediaservices-media', 'azure.com:migrate', 'azure.com:mobileengagement-mobile-engagement', 'azure.com:monitor-actionGroups_API', 'azure.com:monitor-activityLogAlerts_API', 'azure.com:monitor-activityLogs_API', 'azure.com:monitor-alertRulesIncidents_API', 'azure.com:monitor-alertRules_API', 'azure.com:monitor-autoscale_API', 'azure.com:monitor-baseline_API', 'azure.com:monitor-calculateBaseline_API', 'azure.com:monitor-diagnosticsSettingsCategories_API', 'azure.com:monitor-diagnosticsSettings_API', 'azure.com:monitor-eventCategories_API', 'azure.com:monitor-logProfiles_API', 'azure.com:monitor-metricDefinitions_API', 'azure.com:monitor-metrics_API', 'azure.com:monitor-operations_API', 'azure.com:monitor-serviceDiagnosticsSettings_API', 'azure.com:monitor-tenantActivityLogs_API', 'azure.com:msi-ManagedIdentity', 'azure.com:mysql', 'azure.com:network', 'azure.com:network-applicationGateway', 'azure.com:network-applicationSecurityGroup', 'azure.com:network-checkDnsAvailability', 'azure.com:network-endpointService', 'azure.com:network-expressRouteCircuit', 'azure.com:network-loadBalancer', 'azure.com:network-networkInterface', 'azure.com:network-networkSecurityGroup', 'azure.com:network-networkWatcher', 'azure.com:network-operation', 'azure.com:network-publicIpAddress', 'azure.com:network-routeFilter', 'azure.com:network-routeTable', 'azure.com:network-serviceCommunity', 'azure.com:network-usage', 'azure.com:network-virtualNetwork', 'azure.com:network-virtualNetworkGateway', 'azure.com:network-vmssNetworkInterface', 'azure.com:network-vmssPublicIpAddress', 'azure.com:notificationhubs', 'azure.com:operationalinsights-OperationalInsights', 'azure.com:operationsmanagement-OperationsManagement', 'azure.com:policyinsights-policyEvents', 'azure.com:policyinsights-policyStates', 'azure.com:postgresql', 'azure.com:powerbidedicated', 'azure.com:powerbiembedded', 'azure.com:provisioningservices-iotdps', 'azure.com:recoveryservices-backup', 'azure.com:recoveryservices-registeredidentities', 'azure.com:recoveryservices-replicationusages', 'azure.com:recoveryservices-vaults', 'azure.com:recoveryservices-vaultusages', 'azure.com:recoveryservicesbackup', 'azure.com:recoveryservicesbackup-backupManagement', 'azure.com:recoveryservicesbackup-bms', 'azure.com:recoveryservicesbackup-jobs', 'azure.com:recoveryservicesbackup-operations', 'azure.com:recoveryservicesbackup-registeredIdentities', 'azure.com:recoveryservicessiterecovery-service', 'azure.com:redis', 'azure.com:relay', 'azure.com:reservations', 'azure.com:resourcehealth', 'azure.com:resources', 'azure.com:resources-features', 'azure.com:resources-links', 'azure.com:resources-locks', 'azure.com:resources-managedapplications', 'azure.com:resources-management', 'azure.com:resources-policy', 'azure.com:resources-policyAssignments', 'azure.com:resources-policyDefinitions', 'azure.com:resources-policySetDefinitions', 'azure.com:resources-subscriptions', 'azure.com:scheduler', 'azure.com:search', 'azure.com:search-searchindex', 'azure.com:search-searchservice', 'azure.com:servermanagement', 'azure.com:service-map-arm-service-map', 'azure.com:servicebus', 'azure.com:servicefabric', 'azure.com:sql-Databases', 'azure.com:sql-advisors', 'azure.com:sql-backupLongTermRetentionPolicies', 'azure.com:sql-backupLongTermRetentionVaults', 'azure.com:sql-backups', 'azure.com:sql-blobAuditingPolicies', 'azure.com:sql-cancelOperations', 'azure.com:sql-cancelPoolOperations', 'azure.com:sql-capabilities', 'azure.com:sql-checkNameAvailability', 'azure.com:sql-connectionPolicies', 'azure.com:sql-dataMasking', 'azure.com:sql-dataWarehouseUserActivities', 'azure.com:sql-databaseAutomaticTuning', 'azure.com:sql-databaseSecurityAlertPolicies', 'azure.com:sql-databases', 'azure.com:sql-deprecated', 'azure.com:sql-disasterRecoveryConfigurations', 'azure.com:sql-elasticPools', 'azure.com:sql-encryptionProtectors', 'azure.com:sql-failoverGroups', 'azure.com:sql-firewallRules', 'azure.com:sql-geoBackupPolicies', 'azure.com:sql-importExport', 'azure.com:sql-managedDatabases', 'azure.com:sql-metrics', 'azure.com:sql-operations', 'azure.com:sql-queries', 'azure.com:sql-renameDatabase', 'azure.com:sql-replicationLinks', 'azure.com:sql-restorePoints', 'azure.com:sql-serverAutomaticTuning', 'azure.com:sql-serverAzureADAdministrators', 'azure.com:sql-serverCommunicationLinks', 'azure.com:sql-serverDnsAliases', 'azure.com:sql-serverKeys', 'azure.com:sql-servers', 'azure.com:sql-serviceObjectives', 'azure.com:sql-sql.core', 'azure.com:sql-syncAgents', 'azure.com:sql-syncGroups', 'azure.com:sql-syncMembers', 'azure.com:sql-tableAuditing', 'azure.com:sql-usages', 'azure.com:sql-virtualNetworkRules', 'azure.com:storage', 'azure.com:storageimportexport', 'azure.com:storsimple8000series-storsimple', 'azure.com:streamanalytics-functions', 'azure.com:streamanalytics-inputs', 'azure.com:streamanalytics-outputs', 'azure.com:streamanalytics-streamingjobs', 'azure.com:streamanalytics-subscriptions', 'azure.com:streamanalytics-transformations', 'azure.com:subscription-subscriptionDefinitions', 'azure.com:timeseriesinsights', 'azure.com:trafficmanager', 'azure.com:trafficmanager-trafficmanageranalytics', 'azure.com:visualstudio-Csm', 'azure.com:web-AppServiceCertificateOrders', 'azure.com:web-AppServiceEnvironments', 'azure.com:web-AppServicePlans', 'azure.com:web-CertificateRegistrationProvider', 'azure.com:web-Certificates', 'azure.com:web-DeletedWebApps', 'azure.com:web-Diagnostics', 'azure.com:web-DomainRegistrationProvider', 'azure.com:web-Domains', 'azure.com:web-Provider', 'azure.com:web-Recommendations', 'azure.com:web-ResourceProvider', 'azure.com:web-TopLevelDomains', 'azure.com:web-WebApps', 'azure.com:web-logicAppsManagementClient', 'azure.com:web-service', 'bbc.co.uk', 'bbc.com', 'bbci.co.uk', 'bclaws.ca:bclaws', 'beanstream.com', 'beezup.com', 'betfair.com', 'bhagavadgita.io', 'bigoven.com', 'bikewise.org', 'bitbucket.org', 'blazemeter.com', 'bluemix.net:containers', 'botify.com', 'box.com:authorization', 'box.com:content', 'box.com:token', 'box.com:upload', 'brandlovers.com', 'brex.io', 'browshot.com', 'bufferapp.com', 'bulksms.com', 'bungie.net', 'callfire.com', 'cambase.io', 'carbondoomsday.com', 'ccp.is', 'cenit.io', 'channel4.com', 'circleci.com', 'circuitsandbox.net', 'cisco.com', 'citrixonline.com:gotomeeting', 'citrixonline.com:scim', 'citycontext.com', 'clarify.io', 'clever-cloud.com', 'clever.com', 'clickmeter.com', 'cloudmersive.com:ocr', 'cnab-online.herokuapp.com', 'code-scan.com', 'consumerfinance.gov', 'core.ac.uk', 'cybertaxonomy.eu', 'data.gov', 'data2crm.com', 'dataatwork.org', 'datumbox.com', 'deeparteffects.com', 'deutschebahn.com:betriebsstellen', 'deutschebahn.com:fahrplan', 'deutschebahn.com:fasta', 'deutschebahn.com:flinkster', 'deutschebahn.com:reisezentren', 'deutschebahn.com:stada', 'digitallinguistics.io', 'docker.com:engine', 'docusign.net', 'domainsdb.info', 'dracoon.team', 'dropx.io', 'dweet.io', 'ebay.com:buy-browse', 'ebay.com:buy-feed', 'ebay.com:buy-marketing', 'ebay.com:commerce-taxonomy', 'ebay.com:sell-fulfillment', 'envoice.in', 'epa.gov:air', 'epa.gov:case', 'epa.gov:cwa', 'epa.gov:dfr', 'epa.gov:echo', 'epa.gov:eff', 'epa.gov:rcra', 'epa.gov:sdw', 'etmdb.com', 'europeana.eu', 'exavault.com', 'fantasydata.net:cbb-v3-scores', 'fantasydata.net:cbb-v3-stats', 'fantasydata.net:cfb-v3-scores', 'fantasydata.net:golf-v2', 'fantasydata.net:mlb-v3-play-by-play', 'fantasydata.net:mlb-v3-projections', 'fantasydata.net:mlb-v3-projections-dfsr', 'fantasydata.net:mlb-v3-rotoballer-articles', 'fantasydata.net:mlb-v3-rotoballer-premium-news', 'fantasydata.net:mlb-v3-scores', 'fantasydata.net:mlb-v3-stats', 'fantasydata.net:nascar-v2', 'fantasydata.net:nba-v3-play-by-play', 'fantasydata.net:nba-v3-projections', 'fantasydata.net:nba-v3-rotoballer-articles', 'fantasydata.net:nba-v3-rotoballer-premium-news', 'fantasydata.net:nba-v3-scores', 'fantasydata.net:nba-v3-stats', 'fantasydata.net:nfl-v3-play-by-play', 'fantasydata.net:nfl-v3-projections', 'fantasydata.net:nfl-v3-projections-dfsr', 'fantasydata.net:nfl-v3-rotoballer-articles', 'fantasydata.net:nfl-v3-rotoballer-premium-news', 'fantasydata.net:nfl-v3-scores', 'fantasydata.net:nfl-v3-stats', 'fantasydata.net:nhl-v3-play-by-play', 'fantasydata.net:nhl-v3-projections', 'fantasydata.net:nhl-v3-scores', 'fantasydata.net:nhl-v3-stats', 'fantasydata.net:soccer-v3-projections', 'fantasydata.net:soccer-v3-scores', 'fantasydata.net:soccer-v3-stats', 'figshare.com', 'firebrowse.org', 'flat.io', 'flickr.com', 'formapi.io', 'freesound.org', 'funtranslations.com', 'furkot.com', 'geneea.com', 'geodesystems.com', 'getgo.com:gototraining', 'getgo.com:gotowebinar', 'getsandbox.com', 'gettyimages.com', 'giphy.com', 'gisgraphy.com', 'github.com', 'gitlab.com', 'googleapis.com:abusiveexperiencereport', 'googleapis.com:acceleratedmobilepageurl', 'googleapis.com:adexchangebuyer', 'googleapis.com:adexchangebuyer2', 'googleapis.com:adexchangeseller', 'googleapis.com:adexperiencereport', 'googleapis.com:admin', 'googleapis.com:adsense', 'googleapis.com:adsensehost', 'googleapis.com:analytics', 'googleapis.com:analyticsreporting', 'googleapis.com:androiddeviceprovisioning', 'googleapis.com:androidenterprise', 'googleapis.com:androidmanagement', 'googleapis.com:androidpublisher', 'googleapis.com:appengine', 'googleapis.com:appsactivity', 'googleapis.com:appstate', 'googleapis.com:bigquery', 'googleapis.com:bigquerydatatransfer', 'googleapis.com:blogger', 'googleapis.com:books', 'googleapis.com:calendar', 'googleapis.com:chat', 'googleapis.com:civicinfo', 'googleapis.com:classroom', 'googleapis.com:cloudbilling', 'googleapis.com:cloudbuild', 'googleapis.com:clouddebugger', 'googleapis.com:clouderrorreporting', 'googleapis.com:cloudfunctions', 'googleapis.com:cloudiot', 'googleapis.com:cloudkms', 'googleapis.com:cloudmonitoring', 'googleapis.com:cloudresourcemanager', 'googleapis.com:cloudshell', 'googleapis.com:cloudtasks', 'googleapis.com:cloudtrace', 'googleapis.com:clouduseraccounts', 'googleapis.com:compute', 'googleapis.com:consumersurveys', 'googleapis.com:container', 'googleapis.com:content', 'googleapis.com:customsearch', 'googleapis.com:dataflow', 'googleapis.com:dataproc', 'googleapis.com:datastore', 'googleapis.com:deploymentmanager', 'googleapis.com:dfareporting', 'googleapis.com:digitalassetlinks', 'googleapis.com:discovery', 'googleapis.com:dlp', 'googleapis.com:dns', 'googleapis.com:doubleclickbidmanager', 'googleapis.com:doubleclicksearch', 'googleapis.com:drive', 'googleapis.com:firebasedynamiclinks', 'googleapis.com:firebaseremoteconfig', 'googleapis.com:firebaserules', 'googleapis.com:firestore', 'googleapis.com:fitness', 'googleapis.com:fusiontables', 'googleapis.com:games', 'googleapis.com:gamesConfiguration', 'googleapis.com:gamesManagement', 'googleapis.com:genomics', 'googleapis.com:gmail', 'googleapis.com:groupsmigration', 'googleapis.com:groupssettings', 'googleapis.com:iam', 'googleapis.com:identitytoolkit', 'googleapis.com:kgsearch', 'googleapis.com:language', 'googleapis.com:licensing', 'googleapis.com:logging', 'googleapis.com:manufacturers', 'googleapis.com:mirror', 'googleapis.com:ml', 'googleapis.com:monitoring', 'googleapis.com:oauth2', 'googleapis.com:oslogin', 'googleapis.com:pagespeedonline', 'googleapis.com:partners', 'googleapis.com:people', 'googleapis.com:playcustomapp', 'googleapis.com:playmoviespartner', 'googleapis.com:plus', 'googleapis.com:plusDomains', 'googleapis.com:poly', 'googleapis.com:prediction', 'googleapis.com:proximitybeacon', 'googleapis.com:pubsub', 'googleapis.com:qpxExpress', 'googleapis.com:replicapool', 'googleapis.com:replicapoolupdater', 'googleapis.com:reseller', 'googleapis.com:resourceviews', 'googleapis.com:runtimeconfig', 'googleapis.com:safebrowsing', 'googleapis.com:script', 'googleapis.com:searchconsole', 'googleapis.com:serviceconsumermanagement', 'googleapis.com:servicecontrol', 'googleapis.com:servicemanagement', 'googleapis.com:serviceusage', 'googleapis.com:serviceuser', 'googleapis.com:sheets', 'googleapis.com:siteVerification', 'googleapis.com:slides', 'googleapis.com:sourcerepo', 'googleapis.com:spanner', 'googleapis.com:spectrum', 'googleapis.com:speech', 'googleapis.com:sqladmin', 'googleapis.com:storage', 'googleapis.com:storagetransfer', 'googleapis.com:streetviewpublish', 'googleapis.com:surveys', 'googleapis.com:tagmanager', 'googleapis.com:taskqueue', 'googleapis.com:tasks', 'googleapis.com:testing', 'googleapis.com:toolresults', 'googleapis.com:tpu', 'googleapis.com:tracing', 'googleapis.com:translate', 'googleapis.com:urlshortener', 'googleapis.com:vault', 'googleapis.com:videointelligence', 'googleapis.com:vision', 'googleapis.com:webfonts', 'googleapis.com:webmasters', 'googleapis.com:youtube', 'googleapis.com:youtubeAnalytics', 'googleapis.com:youtubereporting', 'gov.bc.ca:bcdc', 'gov.bc.ca:bcgnws', 'gov.bc.ca:geocoder', 'gov.bc.ca:geomark', 'gov.bc.ca:gwells', 'gov.bc.ca:jobposting', 'gov.bc.ca:news', 'gov.bc.ca:open511', 'gov.bc.ca:router', 'graphhopper.com', 'greenpeace.org', 'gsa.gov', 'hackathonwatch.com', 'haloapi.com:metadata', 'haloapi.com:profile', 'haloapi.com:stats', 'haloapi.com:ugc', 'healthcare.gov', 'hetras-certification.net:booking', 'hetras-certification.net:hotel', 'hhs.gov', 'highwaysengland.co.uk', 'hillbillysoftware.com:shinobi', 'hsbc.com', 'icons8.com', 'idtbeyond.com', 'ijenko.net', 'illumidesk.com', 'import.io:data', 'import.io:extraction', 'import.io:rss', 'import.io:run', 'import.io:schedule', 'inboxroute.com', 'infermedica.com', 'instagram.com', 'instawell.com', 'iqualify.com', 'isbndb.com', 'isendpro.com', 'iva-api.com', 'je-apis.com', 'jirafe.com', 'jumpseller.com', 'just-eat.co.uk', 'koomalooma.com', 'kubernetes.io', 'landregistry.gov.uk:deed', 'launchdarkly.com', 'learnifier.com', 'letmc.com:basic-tier', 'letmc.com:customer', 'letmc.com:diary', 'letmc.com:free-tier', 'letmc.com:maintenance', 'letmc.com:reporting', 'link.fish', 'lotadata.com', 'lufthansa.com:partner', 'lufthansa.com:public', 'lyft.com', 'magento.com', 'magick.nu', 'mandrillapp.com', 'mashape.com:geodb', 'mcw.edu', 'medium.com', 'miataru.com', 'microsoft.com:cognitiveservices-CustomSearch', 'microsoft.com:cognitiveservices-EntitySearch', 'microsoft.com:cognitiveservices-ImageSearch', 'microsoft.com:cognitiveservices-NewsSearch', 'microsoft.com:cognitiveservices-Prediction', 'microsoft.com:cognitiveservices-SpellCheck', 'microsoft.com:cognitiveservices-Training', 'microsoft.com:cognitiveservices-VideoSearch', 'microsoft.com:cognitiveservices-WebSearch', 'moonmoonmoonmoon.com', 'motaword.com', 'mozilla.com:kinto', 'nativeads.com', 'naviplancentral.com:factfinder', 'naviplancentral.com:plan', 'nba.com', 'neowsapp.com', 'netatmo.net', 'netlicensing.io', 'netlify.com', 'neutrinoapi.com', 'nfusionsolutions.biz', 'noosh.com', 'npr.org', 'nrel.gov:building-case-studies', 'nrel.gov:transportation-incentives-laws', 'nsidc.org', 'nytimes.com:archive', 'nytimes.com:article_search', 'nytimes.com:books_api', 'nytimes.com:community', 'nytimes.com:geo_api', 'nytimes.com:most_popular_api', 'nytimes.com:movie_reviews', 'nytimes.com:semantic_api', 'nytimes.com:times_tags', 'nytimes.com:timeswire', 'nytimes.com:top_stories', 'o2.cz:mobility', 'o2.cz:sociodemo', 'oceandrivers.com', 'omdbapi.com', 'openapi-converter.herokuapp.com', 'openbanking.org.uk', 'opencagedata.com', 'opendatanetwork.com', 'opendatasoft.com', 'openfintech.io', 'openstf.io', 'opentargets.io', 'orghunter.com', 'osf.io', 'osisoft.com', 'owler.com', 'oxforddictionaries.com', 'paccurate.io', 'pandorabots.com', 'passwordutility.net', 'patientview.org', 'paylocity.com', 'payments.service.gov.uk:payments', 'payrun.io', 'peel-ci.com', 'personio.de:authentication', 'personio.de:personnel', 'phila.gov:pollingplaces', 'polygon.io', 'postmarkapp.com:account', 'postmarkapp.com:server', 'posty-api.herokuapp.com', 'ptv.vic.gov.au', 'qualpay.com', 'quotes.rest', 'rbaskets.in', 'rebilly.com', 'receptive.io', 'refugerestrooms.org', 'reverb.com', 'ritc.io', 'ritekit.com', 'roaring.io', 'rottentomatoes.com', 'rummblelabs.com', 'runscope.com', 'salesloft.com', 'schooldigger.com', 'scrapewebsite.email', 'selectpdf.com', 'semantria.com', 'sendgrid.com', 'shipstation.com', 'simplyrets.com', 'slack.com', 'slicebox.local', 'slideroom.com', 'smart-me.com', 'solarvps.com', 'spectrocoin.com', 'spinbot.net', 'spinitron.com', 'spotify.com', 'squareup.com', 'stackexchange.com', 'staging-ecotaco.com', 'statsocial.com', 'stoplight.io', 'storecove.com', 'stormglass.io', 'stripe.com', 'surrey.ca:open511', 'surrey.ca:trafficloops', 'swagger.io:generator', 'swaggerhub.com', 'synq.fm', 'taggun.io', 'taxamo.com', 'taxrates.io', 'tfl.gov.uk', 'thenounproject.com', 'thesmsworks.co.uk', 'thetvdb.com', 'traccar.org', 'transavia.com', 'trello.com', 'turbinelabs.io', 'tvmaze.com', 'twilio.com', 'twinehealth.com', 'twitter.com', 'tyk.com', 'uebermaps.com', 'vatapi.com', 'versioneye.com', 'vestorly.com', 'victorops.com', 'visagecloud.com', 'vocadb.net', 'voodoomfg.com', 'waag.org', 'walmart.com:inventory', 'walmart.com:item', 'walmart.com:order', 'walmart.com:price', 'watchful.li', 'waterlinked.com', 'wavecell.com', 'wealthport.com', 'weatherbit.io', 'weber-gesamtausgabe.de', 'whapi.com:accounts', 'whapi.com:bets', 'whapi.com:locations', 'whapi.com:numbers', 'whapi.com:sessions', 'whapi.com:sportsdata', 'who-hosts-this.com', 'wikimedia.org', 'windows.net:batch-BatchService', 'windows.net:graphrbac', 'winning.email', 'winsms.co.za', 'wmata.com:bus-realtime', 'wmata.com:bus-route', 'wmata.com:incidents', 'wmata.com:rail-realtime', 'wmata.com:rail-station', 'wordassociations.net', 'wordnik.com', 'wowza.com', 'wso2apistore.com:transform', 'xero.com', 'xkcd.com', 'yunbi.com', 'zalando.com', 'zappiti.com', 'zoom.us', 'zoomconnect.com', 'zuora.com'])\n"
          ],
          "name": "stdout"
        }
      ]
    },
    {
      "metadata": {
        "id": "IdWg5Uqi7LMO",
        "colab_type": "code",
        "colab": {}
      },
      "cell_type": "code",
      "source": [
        "keys = list(training_data.keys())"
      ],
      "execution_count": 0,
      "outputs": []
    },
    {
      "metadata": {
        "id": "Ca9UbJnw7Njs",
        "colab_type": "code",
        "colab": {
          "base_uri": "https://localhost:8080/",
          "height": 635
        },
        "outputId": "3d3daa9d-637c-44cc-bd4e-6d6662f5d7b6"
      },
      "cell_type": "code",
      "source": [
        "training_data[keys[0]]"
      ],
      "execution_count": 33,
      "outputs": [
        {
          "output_type": "execute_result",
          "data": {
            "text/plain": [
              "{'basePath': '/forex-quotes',\n",
              " 'host': '1forge.com',\n",
              " 'info': {'contact': {'email': 'contact@1forge.com',\n",
              "   'name': '1Forge',\n",
              "   'url': 'http://1forge.com'},\n",
              "  'description': 'Stock and Forex Data and Realtime Quotes',\n",
              "  'title': '1Forge Finance APIs',\n",
              "  'version': '0.0.1',\n",
              "  'x-apisguru-categories': ['financial'],\n",
              "  'x-logo': {'backgroundColor': '#24292e',\n",
              "   'url': 'https://api.apis.guru/v2/cache/logo/http_1forge.com_logo.png'},\n",
              "  'x-origin': [{'format': 'swagger',\n",
              "    'url': 'http://1forge.com/openapi.json',\n",
              "    'version': '2.0'}],\n",
              "  'x-preferred': True,\n",
              "  'x-providerName': '1forge.com'},\n",
              " 'paths': {'/quotes': {'get': {'description': 'Get quotes',\n",
              "    'externalDocs': {'description': 'Find out more',\n",
              "     'url': 'http://1forge.com/forex-data-api'},\n",
              "    'responses': {'200': {'description': 'A list of quotes'}},\n",
              "    'summary': 'Get quotes for all symbols',\n",
              "    'tags': ['forex', 'finance', 'quotes']}},\n",
              "  '/symbols': {'get': {'description': 'Symbol List',\n",
              "    'externalDocs': {'description': 'Find out more',\n",
              "     'url': 'http://1forge.com/forex-data-api'},\n",
              "    'responses': {'200': {'description': 'A list of symbols',\n",
              "      'schema': {'example': ['EURUSD', 'GBPJPY', 'AUDUSD'],\n",
              "       'items': {'type': 'string'},\n",
              "       'type': 'array'}}},\n",
              "    'summary': 'Get a list of symbols for which we provide real-time quotes',\n",
              "    'tags': ['forex', 'finance', 'quotes']}}},\n",
              " 'produces': ['application/json'],\n",
              " 'schemes': ['https', 'http'],\n",
              " 'swagger': '2.0'}"
            ]
          },
          "metadata": {
            "tags": []
          },
          "execution_count": 33
        }
      ]
    },
    {
      "metadata": {
        "id": "L7rX_NtR7O94",
        "colab_type": "code",
        "colab": {}
      },
      "cell_type": "code",
      "source": [
        "from collections import Counter\n",
        "from datetime import datetime\n",
        " \n",
        "import json\n",
        "import numpy as np\n",
        "import pandas as pd\n",
        "from matplotlib import pyplot as plt"
      ],
      "execution_count": 0,
      "outputs": []
    },
    {
      "metadata": {
        "id": "WACTP1wB7TZq",
        "colab_type": "code",
        "colab": {}
      },
      "cell_type": "code",
      "source": [
        "labelsP = pd.read_csv(\"path_labels0518.csv\").values\n",
        "labelsS  = pd.read_csv(\"structure_labels0518.csv\").values"
      ],
      "execution_count": 0,
      "outputs": []
    },
    {
      "metadata": {
        "id": "spRgvNs47dxU",
        "colab_type": "code",
        "colab": {
          "base_uri": "https://localhost:8080/",
          "height": 35
        },
        "outputId": "f6623017-654e-48e1-ebed-63af3bdf988e"
      },
      "cell_type": "code",
      "source": [
        "texts = []   # list of text samples\n",
        "for spec in training_data:\n",
        "  strJson = json.dumps(training_data[spec])\n",
        "  texts.append(strJson)\n",
        "\n",
        "print(str(len(texts)))"
      ],
      "execution_count": 41,
      "outputs": [
        {
          "output_type": "stream",
          "text": [
            "1034\n"
          ],
          "name": "stdout"
        }
      ]
    },
    {
      "metadata": {
        "id": "CrmZfapSqtOV",
        "colab_type": "code",
        "colab": {
          "base_uri": "https://localhost:8080/",
          "height": 35
        },
        "outputId": "a49d80f5-0731-4752-be8d-d449b67413fc"
      },
      "cell_type": "code",
      "source": [
        "#turn info objects into strings\n",
        "\n",
        "texts_info= []   # list of text samples\n",
        "for info in training_info:\n",
        "  strJson = json.dumps(training_info[info])\n",
        "  texts_info.append(strJson)\n",
        "\n",
        "print(str(len(texts_info)))"
      ],
      "execution_count": 42,
      "outputs": [
        {
          "output_type": "stream",
          "text": [
            "1034\n"
          ],
          "name": "stdout"
        }
      ]
    },
    {
      "metadata": {
        "id": "3DYMgP8Hqovl",
        "colab_type": "code",
        "colab": {
          "base_uri": "https://localhost:8080/",
          "height": 35
        },
        "outputId": "ce4bd053-db8b-4c52-d94d-d637185576e5"
      },
      "cell_type": "code",
      "source": [
        "texts_paths = []   # list of text samples\n",
        "for path_obj in paths:\n",
        "  strJson = json.dumps(paths[path_obj])\n",
        "  texts_paths.append(strJson)\n",
        "\n",
        "print(str(len(texts_paths)))"
      ],
      "execution_count": 43,
      "outputs": [
        {
          "output_type": "stream",
          "text": [
            "1034\n"
          ],
          "name": "stdout"
        }
      ]
    },
    {
      "metadata": {
        "id": "Eo-IrOJH550x",
        "colab_type": "code",
        "colab": {
          "base_uri": "https://localhost:8080/",
          "height": 35
        },
        "outputId": "5ac7ab8a-9994-45d1-fffa-b18c8f033b48"
      },
      "cell_type": "code",
      "source": [
        "cat_texts = []   # list of text samples\n",
        "for cat in cat_data:\n",
        "  stringg = json.dumps(cat_data[cat])\n",
        "  cat_texts.append(stringg)\n",
        "\n",
        "print(str(len(cat_texts)))"
      ],
      "execution_count": 44,
      "outputs": [
        {
          "output_type": "stream",
          "text": [
            "944\n"
          ],
          "name": "stdout"
        }
      ]
    },
    {
      "metadata": {
        "id": "LA8rsr6bqlaU",
        "colab_type": "code",
        "colab": {
          "base_uri": "https://localhost:8080/",
          "height": 35
        },
        "outputId": "b0f5a365-6514-4ecf-aa36-866e84f49055"
      },
      "cell_type": "code",
      "source": [
        "#turn info objects into strings\n",
        "\n",
        "texts_info_cat = []   # list of text samples\n",
        "for cat in cat_info:\n",
        "  strJson = json.dumps(cat_info[cat])\n",
        "  texts_info_cat.append(strJson)\n",
        "\n",
        "print(str(len(texts_info_cat)))"
      ],
      "execution_count": 45,
      "outputs": [
        {
          "output_type": "stream",
          "text": [
            "944\n"
          ],
          "name": "stdout"
        }
      ]
    },
    {
      "metadata": {
        "id": "aSooIMTc7f9c",
        "colab_type": "code",
        "colab": {
          "base_uri": "https://localhost:8080/",
          "height": 72
        },
        "outputId": "41085db2-dc3a-416a-deeb-d40b75d1ac42"
      },
      "cell_type": "code",
      "source": [
        "labelsPath = list()\n",
        "labelsStruct = list()\n",
        "labelsCat = list()\n",
        "\n",
        "for labs in labelsS:\n",
        "  labelsStruct.append(labs[1])\n",
        "\n",
        "for labp in labelsP:\n",
        "  labelsPath.append(labp[1])\n",
        "  \n",
        "for labc in cat_label:\n",
        "  labelsCat.append(cat_label[labc])\n",
        "  \n",
        "print(str(len(labelsPath)))\n",
        "print(str(len(labelsStruct)))\n",
        "print(str(len(labelsCat)))"
      ],
      "execution_count": 46,
      "outputs": [
        {
          "output_type": "stream",
          "text": [
            "1034\n",
            "1034\n",
            "944\n"
          ],
          "name": "stdout"
        }
      ]
    },
    {
      "metadata": {
        "id": "KWouauOSmp6D",
        "colab_type": "code",
        "colab": {}
      },
      "cell_type": "code",
      "source": [
        "from sklearn.model_selection import train_test_split\n",
        "\n",
        "#split the data and labels into a test and train set\n",
        "X_trainS, X_testS, y_trainS, y_testS = train_test_split(texts, labelsStruct, test_size=0.3, random_state=0)"
      ],
      "execution_count": 0,
      "outputs": []
    },
    {
      "metadata": {
        "id": "oK3fDxvp04e0",
        "colab_type": "code",
        "colab": {}
      },
      "cell_type": "code",
      "source": [
        "#split the data and labels into a test and train set\n",
        "X_trainP, X_testP, y_trainP, y_testP = train_test_split(texts, labelsPath, test_size=0.3, random_state=0)"
      ],
      "execution_count": 0,
      "outputs": []
    },
    {
      "metadata": {
        "id": "HLjQOxuDyrJg",
        "colab_type": "code",
        "colab": {}
      },
      "cell_type": "code",
      "source": [
        "#split for category texts and labels\n",
        "X_trainC, X_testC, y_trainC, y_testC = train_test_split(cat_texts, labelsCat, test_size=0.3, random_state=0)"
      ],
      "execution_count": 0,
      "outputs": []
    },
    {
      "metadata": {
        "id": "PnA2VOEyZCGl",
        "colab_type": "code",
        "colab": {}
      },
      "cell_type": "code",
      "source": [
        "#split for info texts and labels\n",
        "X_trainI, X_testI, y_trainI, y_testI = train_test_split(texts_info_cat, labelsCat, test_size=0.3, random_state=0)"
      ],
      "execution_count": 0,
      "outputs": []
    },
    {
      "metadata": {
        "id": "jwVC3pLLZCJD",
        "colab_type": "code",
        "colab": {}
      },
      "cell_type": "code",
      "source": [
        "#split for path_obj texts and labels\n",
        "X_trainPP, X_testPP, y_trainPP, y_testPP = train_test_split(texts_paths, labelsPath, test_size=0.3, random_state=0)"
      ],
      "execution_count": 0,
      "outputs": []
    },
    {
      "metadata": {
        "id": "Z0nHlZF9yrMY",
        "colab_type": "code",
        "colab": {}
      },
      "cell_type": "code",
      "source": [
        "from sklearn import model_selection, preprocessing, linear_model\n",
        "\n",
        "#encoder for labels of category\n",
        "encoder = preprocessing.LabelEncoder()\n",
        "y_trainC = encoder.fit_transform(y_trainC)\n",
        "y_testC = encoder.fit_transform(y_testC)\n",
        "\n",
        "y_trainI = encoder.fit_transform(y_trainI)\n",
        "y_testI = encoder.fit_transform(y_testI)"
      ],
      "execution_count": 0,
      "outputs": []
    },
    {
      "metadata": {
        "id": "knHJBiLiyrWh",
        "colab_type": "code",
        "colab": {
          "base_uri": "https://localhost:8080/",
          "height": 326
        },
        "outputId": "29ff616c-403d-4f29-8d9a-4d88c58f629d"
      },
      "cell_type": "code",
      "source": [
        "y_testC"
      ],
      "execution_count": 51,
      "outputs": [
        {
          "output_type": "execute_result",
          "data": {
            "text/plain": [
              "array([ 2, 24,  1,  2,  2,  2,  7, 13,  2,  2,  2,  2,  2,  2,  2,  5,  2,\n",
              "        2, 16, 12, 15,  2,  2, 12,  2,  3, 12,  2, 22,  2,  2,  6, 19,  2,\n",
              "        2,  2,  2,  2, 12, 19, 18,  2, 19,  2,  2, 12,  2,  3,  2, 15,  2,\n",
              "        0, 15,  2,  2,  2,  2,  2, 10,  2, 12, 22,  2,  3,  2, 11, 21, 15,\n",
              "        7,  2,  2, 15, 21,  6,  2,  6,  7,  2,  2, 15, 23,  2, 21,  2,  6,\n",
              "       15,  2, 15,  2,  2,  2,  2, 24,  0, 18, 12, 12,  4, 12,  2,  6,  2,\n",
              "        3,  2,  1,  4, 12, 13,  2,  2, 12,  2, 15,  2, 15,  2, 21, 19,  2,\n",
              "        2, 12,  2,  3,  2,  2,  2, 19, 15,  2, 13, 10,  2,  3, 15,  2,  4,\n",
              "        2, 22,  2, 15,  2,  2,  2,  5, 18,  2,  2,  2, 15, 16,  2, 23,  2,\n",
              "        7, 19, 13,  2,  2,  2,  2,  2,  2,  2,  2,  4,  2,  6,  2,  8,  0,\n",
              "       22,  3,  2,  2,  2,  7,  2,  2, 15,  2,  2,  3, 20,  2,  2,  2,  2,\n",
              "        2,  1,  7,  2, 15,  2,  3,  9,  2,  9,  6,  4,  2,  6,  2,  7,  2,\n",
              "        2,  6,  9,  2,  2, 14, 18, 24,  2,  2,  2,  2,  2,  2,  2,  6,  2,\n",
              "        2,  6,  2,  2,  2,  2,  2,  3, 18,  2,  2,  3,  2, 23,  2,  6,  2,\n",
              "        2,  2, 24, 22,  3,  9,  2, 17, 12,  6,  2,  2,  2,  2,  2, 22,  2,\n",
              "        6,  2, 12,  4, 22, 12,  2,  2,  2,  2,  2,  2,  2,  2,  2,  2, 23,\n",
              "        4, 12,  7, 15,  2,  5,  7, 15,  2,  2, 12, 19])"
            ]
          },
          "metadata": {
            "tags": []
          },
          "execution_count": 51
        }
      ]
    },
    {
      "metadata": {
        "id": "jdMzdVEF6xX4",
        "colab_type": "text"
      },
      "cell_type": "markdown",
      "source": [
        "## model architecture\n",
        "\n",
        "the first model is for structure labels"
      ]
    },
    {
      "metadata": {
        "id": "yt3inIQA1izX",
        "colab_type": "code",
        "colab": {}
      },
      "cell_type": "code",
      "source": [
        "from sklearn.svm import LinearSVC\n",
        "from sklearn.feature_extraction.text import TfidfVectorizer\n",
        "from sklearn.model_selection import cross_val_score\n",
        "from sklearn import metrics\n",
        "from sklearn.naive_bayes import MultinomialNB\n",
        "from sklearn.linear_model import SGDClassifier\n",
        " "
      ],
      "execution_count": 0,
      "outputs": []
    },
    {
      "metadata": {
        "id": "qyYmODaT1i2C",
        "colab_type": "code",
        "colab": {}
      },
      "cell_type": "code",
      "source": [
        "#vectorizer based on TF-IDF\n",
        "vectorizer = TfidfVectorizer(sublinear_tf=True, min_df=5, norm='l2', encoding='latin-1', ngram_range=(1, 2), stop_words='english')\n",
        "\n",
        "tf_transformer = vectorizer.fit(texts)"
      ],
      "execution_count": 0,
      "outputs": []
    },
    {
      "metadata": {
        "id": "-uz7fJkO2Af6",
        "colab_type": "code",
        "colab": {}
      },
      "cell_type": "code",
      "source": [
        "#Classifiers, Naive Bayes and linear SVM based\n",
        "clfSVC = SGDClassifier(loss='hinge', penalty='l2',alpha=1e-3, max_iter=15, random_state=42)\n",
        "clfNB = MultinomialNB()"
      ],
      "execution_count": 0,
      "outputs": []
    },
    {
      "metadata": {
        "id": "z1UejL4trGUN",
        "colab_type": "text"
      },
      "cell_type": "markdown",
      "source": [
        "### The following model is for the structure"
      ]
    },
    {
      "metadata": {
        "id": "xdsiJvTA6zZB",
        "colab_type": "code",
        "colab": {
          "base_uri": "https://localhost:8080/",
          "height": 217
        },
        "outputId": "a5736289-a36d-426d-ea26-716508145d1e"
      },
      "cell_type": "code",
      "source": [
        "#TODO: change code to use sklearn Pipeline\n",
        "  \n",
        "t1 = datetime.now()\n",
        "\n",
        "\n",
        "#fit to vectorizer\n",
        "XtrainS = tf_transformer.transform(X_trainS)\n",
        "XtestS = tf_transformer.transform(X_testS)\n",
        "\n",
        "\n",
        "print(datetime.now() - t1)\n",
        "print(XtrainS.shape)\n",
        "\n",
        "#fit model to data\n",
        "model_svm = clfSVC.fit(XtrainS, y_trainS)\n",
        "model_nb = clfNB.fit(XtrainS, y_trainS)\n",
        "\n",
        "#cross validation\n",
        "score_svm = cross_val_score(model_svm, XtrainS, y_trainS, cv=10, n_jobs=-1)\n",
        "score_nb = cross_val_score(model_nb, XtrainS, y_trainS, cv=10, n_jobs=-1)\n",
        " \n",
        "print(datetime.now() - t1)\n",
        "print(\"CV of SVM:\")\n",
        "print(score_svm)\n",
        "print(sum(score_svm) / len(score_svm))\n",
        "print(\"CV of nb:\")\n",
        "print(score_nb)\n",
        "print(sum(score_nb) / len(score_nb))"
      ],
      "execution_count": 55,
      "outputs": [
        {
          "output_type": "stream",
          "text": [
            "0:00:12.388764\n",
            "(723, 49606)\n",
            "0:00:16.542478\n",
            "CV of SVM:\n",
            "[0.81818182 0.74666667 0.82432432 0.79452055 0.73611111 0.75\n",
            " 0.78873239 0.85714286 0.84285714 0.73913043]\n",
            "0.789766729737793\n",
            "CV of nb:\n",
            "[0.64935065 0.68       0.60810811 0.57534247 0.61111111 0.65277778\n",
            " 0.61971831 0.65714286 0.67142857 0.60869565]\n",
            "0.6333675502705568\n"
          ],
          "name": "stdout"
        }
      ]
    },
    {
      "metadata": {
        "id": "DpDyUIag4yQl",
        "colab_type": "code",
        "colab": {
          "base_uri": "https://localhost:8080/",
          "height": 35
        },
        "outputId": "e511af63-5190-4e98-b097-f892b91d4b48"
      },
      "cell_type": "code",
      "source": [
        "score = model_svm.score(XtestS, y_testS)\n",
        "print(score)"
      ],
      "execution_count": 56,
      "outputs": [
        {
          "output_type": "stream",
          "text": [
            "0.7395498392282959\n"
          ],
          "name": "stdout"
        }
      ]
    },
    {
      "metadata": {
        "id": "6X-Hi6BA49JE",
        "colab_type": "code",
        "colab": {
          "base_uri": "https://localhost:8080/",
          "height": 35
        },
        "outputId": "e16dc495-6187-47f1-c884-a6986a751fc0"
      },
      "cell_type": "code",
      "source": [
        "score = model_nb.score(XtestS, [y_testS])\n",
        "print(score)"
      ],
      "execution_count": 57,
      "outputs": [
        {
          "output_type": "stream",
          "text": [
            "0.5530546623794212\n"
          ],
          "name": "stdout"
        }
      ]
    },
    {
      "metadata": {
        "id": "Z-4aJzasrxM8",
        "colab_type": "code",
        "colab": {}
      },
      "cell_type": "code",
      "source": [
        "from sklearn.model_selection import cross_val_predict\n",
        "from sklearn.metrics import confusion_matrix\n",
        "import itertools\n",
        "import numpy as np\n",
        "import matplotlib.pyplot as plt"
      ],
      "execution_count": 0,
      "outputs": []
    },
    {
      "metadata": {
        "id": "jofA28UbZjqk",
        "colab_type": "code",
        "colab": {}
      },
      "cell_type": "code",
      "source": [
        "def plot_confusion_matrix(cm, classes,\n",
        "                          normalize=False,\n",
        "                          title='Confusion matrix',\n",
        "                          cmap=plt.cm.Blues):\n",
        "    \"\"\"\n",
        "    This function prints and plots the confusion matrix.\n",
        "    Normalization can be applied by setting `normalize=True`.\n",
        "    \"\"\"\n",
        "    if normalize:\n",
        "        cm = cm.astype('float') / cm.sum(axis=1)[:, np.newaxis]\n",
        "        print(\"Normalized confusion matrix\")\n",
        "    else:\n",
        "        print('Confusion matrix, without normalization')\n",
        "\n",
        "    print(cm)\n",
        "\n",
        "    plt.imshow(cm, interpolation='nearest', cmap=cmap)\n",
        "    plt.title(title)\n",
        "    plt.colorbar()\n",
        "    tick_marks = np.arange(len(classes))\n",
        "    plt.xticks(tick_marks, classes, rotation=45)\n",
        "    plt.yticks(tick_marks, classes)\n",
        "\n",
        "    fmt = '.2f' if normalize else 'd'\n",
        "    thresh = cm.max() / 2.\n",
        "    for i, j in itertools.product(range(cm.shape[0]), range(cm.shape[1])):\n",
        "        plt.text(j, i, format(cm[i, j], fmt),\n",
        "                 horizontalalignment=\"center\",\n",
        "                 color=\"white\" if cm[i, j] > thresh else \"black\")\n",
        "\n",
        "    plt.tight_layout()\n",
        "    plt.ylabel('True label')\n",
        "    plt.xlabel('Predicted label')\n"
      ],
      "execution_count": 0,
      "outputs": []
    },
    {
      "metadata": {
        "id": "3x1Q0Vrtr-Mw",
        "colab_type": "code",
        "colab": {
          "base_uri": "https://localhost:8080/",
          "height": 163
        },
        "outputId": "0c262a5b-9205-4b9f-a784-beef33ac230c"
      },
      "cell_type": "code",
      "source": [
        "y_pred = cross_val_predict(model_svm,XtestS,y_testS,cv=10)\n",
        "conf_mat = confusion_matrix(y_testS,y_pred)\n",
        "conf_mat"
      ],
      "execution_count": 72,
      "outputs": [
        {
          "output_type": "execute_result",
          "data": {
            "text/plain": [
              "array([[17,  1,  6,  6,  0,  0,  0,  0],\n",
              "       [ 2,  9,  5,  3,  0,  0,  0,  3],\n",
              "       [10,  1, 30,  5,  0,  1,  0,  0],\n",
              "       [ 6,  0,  7, 20,  2,  0,  0,  0],\n",
              "       [ 1,  1,  2,  4, 31,  0,  0,  0],\n",
              "       [ 0,  0,  1,  2,  0, 24, 10,  0],\n",
              "       [ 0,  0,  0,  0,  0,  2, 61,  0],\n",
              "       [ 2,  2,  2,  3,  0,  0,  0, 29]])"
            ]
          },
          "metadata": {
            "tags": []
          },
          "execution_count": 72
        }
      ]
    },
    {
      "metadata": {
        "id": "eOHC1W6qZ6Q4",
        "colab_type": "code",
        "colab": {
          "base_uri": "https://localhost:8080/",
          "height": 725
        },
        "outputId": "b2abc1da-e792-48c2-8a71-0150e8590fb8"
      },
      "cell_type": "code",
      "source": [
        "plt.figure()\n",
        "plot_confusion_matrix(conf_mat, classes=[1,2,3,4,5,6,7,8], normalize=True,\n",
        "                      title='Confusion matrix, without normalization')"
      ],
      "execution_count": 73,
      "outputs": [
        {
          "output_type": "stream",
          "text": [
            "Normalized confusion matrix\n",
            "[[0.56666667 0.03333333 0.2        0.2        0.         0.\n",
            "  0.         0.        ]\n",
            " [0.09090909 0.40909091 0.22727273 0.13636364 0.         0.\n",
            "  0.         0.13636364]\n",
            " [0.21276596 0.0212766  0.63829787 0.10638298 0.         0.0212766\n",
            "  0.         0.        ]\n",
            " [0.17142857 0.         0.2        0.57142857 0.05714286 0.\n",
            "  0.         0.        ]\n",
            " [0.02564103 0.02564103 0.05128205 0.1025641  0.79487179 0.\n",
            "  0.         0.        ]\n",
            " [0.         0.         0.02702703 0.05405405 0.         0.64864865\n",
            "  0.27027027 0.        ]\n",
            " [0.         0.         0.         0.         0.         0.03174603\n",
            "  0.96825397 0.        ]\n",
            " [0.05263158 0.05263158 0.05263158 0.07894737 0.         0.\n",
            "  0.         0.76315789]]\n"
          ],
          "name": "stdout"
        },
        {
          "output_type": "display_data",
          "data": {
            "image/png": "[encoded data removed]",
            "text/plain": [
              "<matplotlib.figure.Figure at 0x7f6893e88ac8>"
            ]
          },
          "metadata": {
            "tags": []
          }
        }
      ]
    },
    {
      "metadata": {
        "id": "RyxwXdbEsAzc",
        "colab_type": "code",
        "colab": {
          "base_uri": "https://localhost:8080/",
          "height": 163
        },
        "outputId": "c6646203-2903-41cc-9f26-2ca9315ac080"
      },
      "cell_type": "code",
      "source": [
        "y_pred = cross_val_predict(model_nb,XtestS,y_testS,cv=10)\n",
        "conf_mat = confusion_matrix(y_testS,y_pred)\n",
        "conf_mat"
      ],
      "execution_count": 68,
      "outputs": [
        {
          "output_type": "execute_result",
          "data": {
            "text/plain": [
              "array([[ 0,  0,  9,  0,  0,  0, 21,  0],\n",
              "       [ 0,  0,  4,  0,  0,  0,  7, 11],\n",
              "       [ 0,  0, 28,  0,  0,  0, 19,  0],\n",
              "       [ 0,  0, 12, 10,  0,  0, 13,  0],\n",
              "       [ 0,  0,  1,  0, 31,  0,  6,  1],\n",
              "       [ 0,  0,  2,  0,  0,  6, 29,  0],\n",
              "       [ 0,  0,  0,  0,  0,  0, 63,  0],\n",
              "       [ 0,  0,  4,  0,  0,  0,  4, 30]])"
            ]
          },
          "metadata": {
            "tags": []
          },
          "execution_count": 68
        }
      ]
    },
    {
      "metadata": {
        "id": "nwTO4u88aH-j",
        "colab_type": "code",
        "colab": {
          "base_uri": "https://localhost:8080/",
          "height": 725
        },
        "outputId": "66dbca00-68ae-47de-de1c-f140951899dc"
      },
      "cell_type": "code",
      "source": [
        "plt.figure()\n",
        "plot_confusion_matrix(conf_mat, classes=[1,2,3,4,5,6,7,8], normalize=True,\n",
        "                      title='Confusion matrix, without normalization')"
      ],
      "execution_count": 70,
      "outputs": [
        {
          "output_type": "stream",
          "text": [
            "Normalized confusion matrix\n",
            "[[0.         0.         0.3        0.         0.         0.\n",
            "  0.7        0.        ]\n",
            " [0.         0.         0.18181818 0.         0.         0.\n",
            "  0.31818182 0.5       ]\n",
            " [0.         0.         0.59574468 0.         0.         0.\n",
            "  0.40425532 0.        ]\n",
            " [0.         0.         0.34285714 0.28571429 0.         0.\n",
            "  0.37142857 0.        ]\n",
            " [0.         0.         0.02564103 0.         0.79487179 0.\n",
            "  0.15384615 0.02564103]\n",
            " [0.         0.         0.05405405 0.         0.         0.16216216\n",
            "  0.78378378 0.        ]\n",
            " [0.         0.         0.         0.         0.         0.\n",
            "  1.         0.        ]\n",
            " [0.         0.         0.10526316 0.         0.         0.\n",
            "  0.10526316 0.78947368]]\n"
          ],
          "name": "stdout"
        },
        {
          "output_type": "display_data",
          "data": {
            "image/png": "[encoded data removed]",
            "text/plain": [
              "<matplotlib.figure.Figure at 0x7f6893e88a20>"
            ]
          },
          "metadata": {
            "tags": []
          }
        }
      ]
    },
    {
      "metadata": {
        "id": "nBVKefxC9aQJ",
        "colab_type": "text"
      },
      "cell_type": "markdown",
      "source": [
        "### The following model is created for the paths label"
      ]
    },
    {
      "metadata": {
        "id": "mVmgji5i9ZO2",
        "colab_type": "code",
        "colab": {
          "base_uri": "https://localhost:8080/",
          "height": 292
        },
        "outputId": "8edf134d-5473-4760-bb47-f7988376c384"
      },
      "cell_type": "code",
      "source": [
        "#TODO: change code to use sklearn Pipeline\n",
        "  \n",
        "t1 = datetime.now()\n",
        "\n",
        "\n",
        "\n",
        "XtrainP = tf_transformer.transform(X_trainP)\n",
        "XtestP = tf_transformer.transform(X_testP)\n",
        "\n",
        "\n",
        "print(datetime.now() - t1)\n",
        "print(XtrainP.shape)\n",
        "\n",
        "# TODO: adjust classifier to generate better accuracy\n",
        "model_svm_P = clfSVC.fit(XtrainS, y_trainS)\n",
        "model_nb_P = clfNB.fit(XtrainS, y_trainS)\n",
        "\n",
        "#cross validation\n",
        "score_svm_P = cross_val_score(model_svm_P, XtrainP, y_trainP, cv=10, n_jobs=-1)\n",
        "score_nb_P = cross_val_score(model_nb_P, XtrainP, y_trainP, cv=10, n_jobs=-1)\n",
        " \n",
        "print(datetime.now() - t1)\n",
        "print(\"CV of SVM:\")\n",
        "print(score_svm_P)\n",
        "print(sum(score_svm_P) / len(score_svm_P))\n",
        "print(\"CV of nb:\")\n",
        "print(score_nb_P)\n",
        "print(sum(score_nb_P) / len(score_nb_P))"
      ],
      "execution_count": 41,
      "outputs": [
        {
          "output_type": "stream",
          "text": [
            "0:00:15.553523\n",
            "(723, 49606)\n"
          ],
          "name": "stdout"
        },
        {
          "output_type": "stream",
          "text": [
            "/usr/local/lib/python3.6/dist-packages/sklearn/model_selection/_split.py:605: Warning: The least populated class in y has only 1 members, which is too few. The minimum number of members in any class cannot be less than n_splits=10.\n",
            "  % (min_groups, self.n_splits)), Warning)\n",
            "/usr/local/lib/python3.6/dist-packages/sklearn/model_selection/_split.py:605: Warning: The least populated class in y has only 1 members, which is too few. The minimum number of members in any class cannot be less than n_splits=10.\n",
            "  % (min_groups, self.n_splits)), Warning)\n"
          ],
          "name": "stderr"
        },
        {
          "output_type": "stream",
          "text": [
            "0:00:21.883923\n",
            "CV of SVM:\n",
            "[0.25316456 0.25974026 0.28       0.28       0.22666667 0.18055556\n",
            " 0.28169014 0.34782609 0.26865672 0.25396825]\n",
            "0.2632268237112264\n",
            "CV of nb:\n",
            "[0.20253165 0.18181818 0.21333333 0.17333333 0.28       0.16666667\n",
            " 0.28169014 0.2173913  0.20895522 0.15873016]\n",
            "0.2084449988524788\n"
          ],
          "name": "stdout"
        }
      ]
    },
    {
      "metadata": {
        "id": "vPBQuzYkcpzY",
        "colab_type": "code",
        "colab": {
          "base_uri": "https://localhost:8080/",
          "height": 310
        },
        "outputId": "ae3ee095-f8c0-4632-b2ea-bfa3f77763b9"
      },
      "cell_type": "code",
      "source": [
        "#TODO: change code to use sklearn Pipeline\n",
        "\n",
        "t1 = datetime.now()\n",
        "\n",
        "\n",
        "\n",
        "XtrainP = tf_transformer.transform(X_trainPP)\n",
        "XtestP = tf_transformer.transform(X_testPP)\n",
        "\n",
        "\n",
        "print(datetime.now() - t1)\n",
        "print(XtrainP.shape)\n",
        "\n",
        "# TODO: adjust classifier to generate better accuracy\n",
        "model_svm_P = clfSVC.fit(XtrainP, y_trainPP)\n",
        "model_nb_P = clfNB.fit(XtestP, y_testPP)\n",
        "\n",
        "#cross validation\n",
        "score_svm_P = cross_val_score(model_svm_P, XtrainP, y_trainPP, cv=10, n_jobs=-1)\n",
        "score_nb_P = cross_val_score(model_nb_P, XtrainP, y_trainPP, cv=10, n_jobs=-1)\n",
        " \n",
        "print(datetime.now() - t1)\n",
        "print(\"CV of SVM:\")\n",
        "print(score_svm_P)\n",
        "print(sum(score_svm_P) / len(score_svm_P))\n",
        "print(\"CV of nb:\")\n",
        "print(score_nb_P)\n",
        "print(sum(score_nb_P) / len(score_nb_P))"
      ],
      "execution_count": 87,
      "outputs": [
        {
          "output_type": "stream",
          "text": [
            "0:00:06.564549\n",
            "(723, 49606)\n"
          ],
          "name": "stdout"
        },
        {
          "output_type": "stream",
          "text": [
            "/usr/local/lib/python3.6/dist-packages/sklearn/model_selection/_split.py:605: Warning: The least populated class in y has only 1 members, which is too few. The minimum number of members in any class cannot be less than n_splits=10.\n",
            "  % (min_groups, self.n_splits)), Warning)\n",
            "/usr/local/lib/python3.6/dist-packages/sklearn/model_selection/_split.py:605: Warning: The least populated class in y has only 1 members, which is too few. The minimum number of members in any class cannot be less than n_splits=10.\n",
            "  % (min_groups, self.n_splits)), Warning)\n"
          ],
          "name": "stderr"
        },
        {
          "output_type": "stream",
          "text": [
            "0:00:10.797155\n",
            "CV of SVM:\n",
            "[0.26582278 0.25974026 0.26666667 0.26666667 0.22666667 0.20833333\n",
            " 0.26760563 0.33333333 0.23880597 0.28571429]\n",
            "0.2619355600883409\n",
            "CV of nb:\n",
            "[0.18987342 0.18181818 0.22666667 0.18666667 0.25333333 0.13888889\n",
            " 0.28169014 0.26086957 0.19402985 0.17460317]\n",
            "0.20884398865071613\n"
          ],
          "name": "stdout"
        }
      ]
    },
    {
      "metadata": {
        "id": "ZfKW5BPnq_Ld",
        "colab_type": "text"
      },
      "cell_type": "markdown",
      "source": [
        "### the following model is created for the category input"
      ]
    },
    {
      "metadata": {
        "id": "ekSnSyb88IR2",
        "colab_type": "code",
        "colab": {
          "base_uri": "https://localhost:8080/",
          "height": 310
        },
        "outputId": "b8bffd8b-d72c-4b61-dcd8-854b9041db46"
      },
      "cell_type": "code",
      "source": [
        "#TODO: change code to use sklearn Pipeline\n",
        "  \n",
        "t1 = datetime.now()\n",
        "\n",
        "clfSVC = SGDClassifier(loss='hinge', penalty='l2',alpha=1e-3, max_iter=15, random_state=42)\n",
        "clfNB = MultinomialNB()\n",
        "\n",
        "#fit to vectorizer\n",
        "XtrainC = tf_transformer.transform(X_trainC)\n",
        "XtestC = tf_transformer.transform(X_testC)\n",
        "\n",
        "\n",
        "print(datetime.now() - t1)\n",
        "print(XtrainC.shape)\n",
        "\n",
        "#fit model to data\n",
        "model_svm_c = clfSVC.fit(XtrainC, y_trainC)\n",
        "model_nb_c = clfNB.fit(XtrainC, y_trainC)\n",
        "\n",
        "#cross validation\n",
        "score_svm_C = cross_val_score(model_svm, XtrainC, y_trainC, cv=10, n_jobs=-1)\n",
        "score_nb_C = cross_val_score(model_nb, XtrainC, y_trainC, cv=10, n_jobs=-1)\n",
        " \n",
        "print(datetime.now() - t1)\n",
        "print(\"CV of SVM:\")\n",
        "print(score_svm_C)\n",
        "print(sum(score_svm_C) / len(score_svm_C))\n",
        "print(\"CV of nb:\")\n",
        "print(score_nb_C)\n",
        "print(sum(score_nb_C) / len(score_nb_C))"
      ],
      "execution_count": 80,
      "outputs": [
        {
          "output_type": "stream",
          "text": [
            "0:00:11.251900\n",
            "(660, 49606)\n"
          ],
          "name": "stdout"
        },
        {
          "output_type": "stream",
          "text": [
            "/usr/local/lib/python3.6/dist-packages/sklearn/model_selection/_split.py:605: Warning: The least populated class in y has only 1 members, which is too few. The minimum number of members in any class cannot be less than n_splits=10.\n",
            "  % (min_groups, self.n_splits)), Warning)\n",
            "/usr/local/lib/python3.6/dist-packages/sklearn/model_selection/_split.py:605: Warning: The least populated class in y has only 1 members, which is too few. The minimum number of members in any class cannot be less than n_splits=10.\n",
            "  % (min_groups, self.n_splits)), Warning)\n"
          ],
          "name": "stderr"
        },
        {
          "output_type": "stream",
          "text": [
            "0:00:19.492237\n",
            "CV of SVM:\n",
            "[0.67901235 0.75949367 0.78378378 0.78082192 0.75714286 0.84375\n",
            " 0.85245902 0.83636364 0.90566038 0.88      ]\n",
            "0.8078487605415517\n",
            "CV of nb:\n",
            "[0.45679012 0.49367089 0.51351351 0.50684932 0.52857143 0.5625\n",
            " 0.59016393 0.63636364 0.71698113 0.7       ]\n",
            "0.5705403969551514\n"
          ],
          "name": "stdout"
        }
      ]
    },
    {
      "metadata": {
        "id": "b8WCwheCboQc",
        "colab_type": "code",
        "colab": {
          "base_uri": "https://localhost:8080/",
          "height": 310
        },
        "outputId": "38061dc3-b098-4a00-a514-20d27acf88c1"
      },
      "cell_type": "code",
      "source": [
        "#TODO: change code to use sklearn Pipeline\n",
        "  \n",
        "t1 = datetime.now()\n",
        "\n",
        "clfSVC = SGDClassifier(loss='hinge', penalty='l2',alpha=1e-3, max_iter=15, random_state=42)\n",
        "clfNB = MultinomialNB()\n",
        "\n",
        "#fit to vectorizer\n",
        "XtrainC = tf_transformer.transform(X_trainI)\n",
        "XtestC = tf_transformer.transform(X_testI)\n",
        "\n",
        "\n",
        "print(datetime.now() - t1)\n",
        "print(XtrainC.shape)\n",
        "\n",
        "#fit model to data\n",
        "model_svm_c = clfSVC.fit(XtrainC, y_trainI)\n",
        "model_nb_c = clfNB.fit(XtrainC, y_trainI)\n",
        "\n",
        "#cross validation\n",
        "score_svm_C = cross_val_score(model_svm_c, XtrainC, y_trainI, cv=10, n_jobs=-1)\n",
        "score_nb_C = cross_val_score(model_nb_c, XtrainC, y_trainI, cv=10, n_jobs=-1)\n",
        " \n",
        "print(datetime.now() - t1)\n",
        "print(\"CV of SVM:\")\n",
        "print(score_svm_C)\n",
        "print(sum(score_svm_C) / len(score_svm_C))\n",
        "print(\"CV of nb:\")\n",
        "print(score_nb_C)\n",
        "print(sum(score_nb_C) / len(score_nb_C))"
      ],
      "execution_count": 83,
      "outputs": [
        {
          "output_type": "stream",
          "text": [
            "0:00:00.222386\n",
            "(660, 49606)\n"
          ],
          "name": "stdout"
        },
        {
          "output_type": "stream",
          "text": [
            "/usr/local/lib/python3.6/dist-packages/sklearn/model_selection/_split.py:605: Warning: The least populated class in y has only 1 members, which is too few. The minimum number of members in any class cannot be less than n_splits=10.\n",
            "  % (min_groups, self.n_splits)), Warning)\n",
            "/usr/local/lib/python3.6/dist-packages/sklearn/model_selection/_split.py:605: Warning: The least populated class in y has only 1 members, which is too few. The minimum number of members in any class cannot be less than n_splits=10.\n",
            "  % (min_groups, self.n_splits)), Warning)\n"
          ],
          "name": "stderr"
        },
        {
          "output_type": "stream",
          "text": [
            "0:00:03.798271\n",
            "CV of SVM:\n",
            "[0.87654321 0.91139241 0.94594595 1.         0.98571429 0.96875\n",
            " 1.         1.         1.         1.        ]\n",
            "0.9688345846600066\n",
            "CV of nb:\n",
            "[0.44444444 0.46835443 0.47297297 0.49315068 0.51428571 0.5625\n",
            " 0.59016393 0.63636364 0.66037736 0.68      ]\n",
            "0.5522613176294817\n"
          ],
          "name": "stdout"
        }
      ]
    },
    {
      "metadata": {
        "id": "Sm0_ZN-Yb7Rq",
        "colab_type": "code",
        "colab": {
          "base_uri": "https://localhost:8080/",
          "height": 2763
        },
        "outputId": "c76381ea-fc5c-46b0-ade7-3feba1ba37fb"
      },
      "cell_type": "code",
      "source": [
        "y_pred = cross_val_predict(model_svm_c,XtestC,y_testI,cv=10)\n",
        "conf_mat = confusion_matrix(y_testI,y_pred)\n",
        "conf_mat\n",
        "plt.figure()\n",
        "plot_confusion_matrix(conf_mat, classes=list(range(1,26)), normalize=True,\n",
        "                      title='Confusion matrix, without normalization')"
      ],
      "execution_count": 86,
      "outputs": [
        {
          "output_type": "stream",
          "text": [
            "/usr/local/lib/python3.6/dist-packages/sklearn/model_selection/_split.py:605: Warning: The least populated class in y has only 1 members, which is too few. The minimum number of members in any class cannot be less than n_splits=10.\n",
            "  % (min_groups, self.n_splits)), Warning)\n"
          ],
          "name": "stderr"
        },
        {
          "output_type": "stream",
          "text": [
            "Normalized confusion matrix\n",
            "[[0.66666667 0.         0.         0.         0.         0.\n",
            "  0.         0.         0.         0.         0.         0.\n",
            "  0.33333333 0.         0.         0.         0.         0.\n",
            "  0.         0.         0.         0.         0.         0.\n",
            "  0.        ]\n",
            " [0.         0.66666667 0.33333333 0.         0.         0.\n",
            "  0.         0.         0.         0.         0.         0.\n",
            "  0.         0.         0.         0.         0.         0.\n",
            "  0.         0.         0.         0.         0.         0.\n",
            "  0.        ]\n",
            " [0.         0.00666667 0.99333333 0.         0.         0.\n",
            "  0.         0.         0.         0.         0.         0.\n",
            "  0.         0.         0.         0.         0.         0.\n",
            "  0.         0.         0.         0.         0.         0.\n",
            "  0.        ]\n",
            " [0.         0.         0.         0.91666667 0.         0.\n",
            "  0.         0.         0.         0.         0.         0.\n",
            "  0.         0.         0.         0.         0.         0.\n",
            "  0.         0.         0.         0.         0.08333333 0.\n",
            "  0.        ]\n",
            " [0.         0.         0.         0.         0.85714286 0.\n",
            "  0.         0.14285714 0.         0.         0.         0.\n",
            "  0.         0.         0.         0.         0.         0.\n",
            "  0.         0.         0.         0.         0.         0.\n",
            "  0.        ]\n",
            " [0.         0.         0.33333333 0.         0.         0.66666667\n",
            "  0.         0.         0.         0.         0.         0.\n",
            "  0.         0.         0.         0.         0.         0.\n",
            "  0.         0.         0.         0.         0.         0.\n",
            "  0.        ]\n",
            " [0.         0.         0.         0.         0.         0.\n",
            "  1.         0.         0.         0.         0.         0.\n",
            "  0.         0.         0.         0.         0.         0.\n",
            "  0.         0.         0.         0.         0.         0.\n",
            "  0.        ]\n",
            " [0.         0.         0.         0.         0.         0.\n",
            "  0.         1.         0.         0.         0.         0.\n",
            "  0.         0.         0.         0.         0.         0.\n",
            "  0.         0.         0.         0.         0.         0.\n",
            "  0.        ]\n",
            " [0.         0.         0.         0.         0.         1.\n",
            "  0.         0.         0.         0.         0.         0.\n",
            "  0.         0.         0.         0.         0.         0.\n",
            "  0.         0.         0.         0.         0.         0.\n",
            "  0.        ]\n",
            " [0.         0.25       0.         0.25       0.         0.\n",
            "  0.         0.25       0.         0.25       0.         0.\n",
            "  0.         0.         0.         0.         0.         0.\n",
            "  0.         0.         0.         0.         0.         0.\n",
            "  0.        ]\n",
            " [0.         0.         0.5        0.         0.         0.\n",
            "  0.         0.         0.         0.         0.         0.\n",
            "  0.5        0.         0.         0.         0.         0.\n",
            "  0.         0.         0.         0.         0.         0.\n",
            "  0.        ]\n",
            " [0.         0.         0.         0.         0.         0.\n",
            "  0.         0.         0.         0.         0.         0.\n",
            "  1.         0.         0.         0.         0.         0.\n",
            "  0.         0.         0.         0.         0.         0.\n",
            "  0.        ]\n",
            " [0.05882353 0.         0.         0.         0.         0.\n",
            "  0.         0.         0.         0.         0.         0.\n",
            "  0.88235294 0.         0.         0.         0.         0.\n",
            "  0.         0.05882353 0.         0.         0.         0.\n",
            "  0.        ]\n",
            " [0.         0.         0.         0.         0.         0.\n",
            "  0.         0.         0.         0.         0.         0.\n",
            "  0.         1.         0.         0.         0.         0.\n",
            "  0.         0.         0.         0.         0.         0.\n",
            "  0.        ]\n",
            " [0.         0.         0.         0.         0.         0.\n",
            "  0.         0.         0.         0.         0.         0.\n",
            "  0.         0.         0.         0.         0.         0.\n",
            "  1.         0.         0.         0.         0.         0.\n",
            "  0.        ]\n",
            " [0.         0.         0.         0.         0.         0.\n",
            "  0.         0.         0.         0.         0.         0.\n",
            "  0.         0.         0.         1.         0.         0.\n",
            "  0.         0.         0.         0.         0.         0.\n",
            "  0.        ]\n",
            " [0.         0.         0.5        0.         0.5        0.\n",
            "  0.         0.         0.         0.         0.         0.\n",
            "  0.         0.         0.         0.         0.         0.\n",
            "  0.         0.         0.         0.         0.         0.\n",
            "  0.        ]\n",
            " [0.         0.         1.         0.         0.         0.\n",
            "  0.         0.         0.         0.         0.         0.\n",
            "  0.         0.         0.         0.         0.         0.\n",
            "  0.         0.         0.         0.         0.         0.\n",
            "  0.        ]\n",
            " [0.         0.         0.         0.         0.         0.\n",
            "  0.         0.2        0.         0.         0.         0.\n",
            "  0.         0.         0.         0.         0.         0.\n",
            "  0.8        0.         0.         0.         0.         0.\n",
            "  0.        ]\n",
            " [0.         0.         0.         0.         0.         0.\n",
            "  0.         0.         0.         0.         0.         0.\n",
            "  0.         0.         0.         0.         0.         0.\n",
            "  0.         1.         0.         0.         0.         0.\n",
            "  0.        ]\n",
            " [0.         0.         1.         0.         0.         0.\n",
            "  0.         0.         0.         0.         0.         0.\n",
            "  0.         0.         0.         0.         0.         0.\n",
            "  0.         0.         0.         0.         0.         0.\n",
            "  0.        ]\n",
            " [0.         0.         0.         0.25       0.         0.\n",
            "  0.         0.25       0.         0.         0.         0.\n",
            "  0.         0.         0.         0.         0.         0.\n",
            "  0.         0.         0.         0.5        0.         0.\n",
            "  0.        ]\n",
            " [0.         0.         0.14285714 0.         0.         0.\n",
            "  0.         0.         0.         0.         0.         0.\n",
            "  0.         0.         0.         0.14285714 0.         0.\n",
            "  0.         0.         0.         0.         0.71428571 0.\n",
            "  0.        ]\n",
            " [0.         0.         0.25       0.         0.         0.\n",
            "  0.         0.         0.         0.         0.         0.\n",
            "  0.         0.         0.         0.         0.         0.\n",
            "  0.         0.         0.         0.         0.         0.75\n",
            "  0.        ]\n",
            " [0.         0.         0.         0.         0.         0.\n",
            "  0.25       0.         0.         0.         0.         0.\n",
            "  0.         0.         0.         0.         0.         0.\n",
            "  0.         0.         0.         0.         0.         0.\n",
            "  0.75      ]]\n"
          ],
          "name": "stdout"
        },
        {
          "output_type": "display_data",
          "data": {
            "image/png": "[encoded data removed]",
            "text/plain": [
              "<matplotlib.figure.Figure at 0x7f68a39da978>"
            ]
          },
          "metadata": {
            "tags": []
          }
        }
      ]
    },
    {
      "metadata": {
        "id": "n6QF0-v_8NjY",
        "colab_type": "text"
      },
      "cell_type": "markdown",
      "source": [
        "## package the model"
      ]
    },
    {
      "metadata": {
        "id": "7xCi-AnbAfNF",
        "colab_type": "code",
        "colab": {}
      },
      "cell_type": "code",
      "source": [
        "from sklearn.externals import joblib"
      ],
      "execution_count": 0,
      "outputs": []
    },
    {
      "metadata": {
        "id": "0NCdxChVB53Y",
        "colab_type": "code",
        "colab": {}
      },
      "cell_type": "code",
      "source": [
        "# TODO: search for more efficient way to deserialize the vectorizer\n",
        "\n",
        "joblib.dump(vectorizer, \"pickle/tfidf_vectorizer.pickle\")"
      ],
      "execution_count": 0,
      "outputs": []
    },
    {
      "metadata": {
        "id": "2myQw7gikGBZ",
        "colab_type": "code",
        "colab": {}
      },
      "cell_type": "code",
      "source": [
        ""
      ],
      "execution_count": 0,
      "outputs": []
    },
    {
      "metadata": {
        "id": "C2je4CDdB56R",
        "colab_type": "code",
        "colab": {
          "base_uri": "https://localhost:8080/",
          "height": 34
        },
        "outputId": "cec21cfc-53a5-4a64-a1e8-352be136a67a"
      },
      "cell_type": "code",
      "source": [
        "joblib.dump(model_svm, \"pickle/model_svm.pickle\")\n"
      ],
      "execution_count": 30,
      "outputs": [
        {
          "output_type": "execute_result",
          "data": {
            "text/plain": [
              "['pickle/model_svm.pickle']"
            ]
          },
          "metadata": {
            "tags": []
          },
          "execution_count": 30
        }
      ]
    },
    {
      "metadata": {
        "id": "xa37cYaDB59c",
        "colab_type": "code",
        "colab": {
          "base_uri": "https://localhost:8080/",
          "height": 34
        },
        "outputId": "cc1ecae5-a693-416a-9107-582908f35fde"
      },
      "cell_type": "code",
      "source": [
        "joblib.dump(model_svm_P, \"pickle/model_svm_P.pickle\")"
      ],
      "execution_count": 31,
      "outputs": [
        {
          "output_type": "execute_result",
          "data": {
            "text/plain": [
              "['pickle/model_svm_P.pickle']"
            ]
          },
          "metadata": {
            "tags": []
          },
          "execution_count": 31
        }
      ]
    },
    {
      "metadata": {
        "id": "wzJAgqRu973B",
        "colab_type": "code",
        "colab": {
          "base_uri": "https://localhost:8080/",
          "height": 34
        },
        "outputId": "f5111821-7804-420d-d0ab-6428be4d410c"
      },
      "cell_type": "code",
      "source": [
        "joblib.dump(model_svm_P, \"pickle/model_svm_C.pickle\")"
      ],
      "execution_count": 63,
      "outputs": [
        {
          "output_type": "execute_result",
          "data": {
            "text/plain": [
              "['pickle/model_svm_C.pickle']"
            ]
          },
          "metadata": {
            "tags": []
          },
          "execution_count": 63
        }
      ]
    }
  ]
}